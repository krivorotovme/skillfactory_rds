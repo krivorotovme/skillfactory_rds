{
 "cells": [
  {
   "cell_type": "code",
   "execution_count": 2,
   "metadata": {},
   "outputs": [
    {
     "name": "stdout",
     "output_type": "stream",
     "text": [
      "<class 'pandas.core.frame.DataFrame'>\n",
      "RangeIndex: 395 entries, 0 to 394\n",
      "Data columns (total 30 columns):\n",
      " #   Column               Non-Null Count  Dtype  \n",
      "---  ------               --------------  -----  \n",
      " 0   school               395 non-null    object \n",
      " 1   sex                  395 non-null    object \n",
      " 2   age                  395 non-null    int64  \n",
      " 3   address              378 non-null    object \n",
      " 4   famsize              368 non-null    object \n",
      " 5   Pstatus              350 non-null    object \n",
      " 6   Medu                 392 non-null    float64\n",
      " 7   Fedu                 371 non-null    float64\n",
      " 8   Mjob                 376 non-null    object \n",
      " 9   Fjob                 359 non-null    object \n",
      " 10  reason               378 non-null    object \n",
      " 11  guardian             364 non-null    object \n",
      " 12  traveltime           367 non-null    float64\n",
      " 13  studytime            388 non-null    float64\n",
      " 14  failures             373 non-null    float64\n",
      " 15  schoolsup            386 non-null    object \n",
      " 16  famsup               356 non-null    object \n",
      " 17  paid                 355 non-null    object \n",
      " 18  activities           381 non-null    object \n",
      " 19  nursery              379 non-null    object \n",
      " 20  studytime, granular  388 non-null    float64\n",
      " 21  higher               375 non-null    object \n",
      " 22  internet             361 non-null    object \n",
      " 23  romantic             364 non-null    object \n",
      " 24  famrel               368 non-null    float64\n",
      " 25  freetime             384 non-null    float64\n",
      " 26  goout                387 non-null    float64\n",
      " 27  health               380 non-null    float64\n",
      " 28  absences             383 non-null    float64\n",
      " 29  score                389 non-null    float64\n",
      "dtypes: float64(12), int64(1), object(17)\n",
      "memory usage: 92.7+ KB\n"
     ]
    }
   ],
   "source": [
    "import pandas as pd\n",
    "import matplotlib.pyplot as plt\n",
    "import seaborn as sns\n",
    "from itertools import combinations\n",
    "from scipy.stats import ttest_ind\n",
    "\n",
    "pd.set_option('display.max_rows', 50) # показывать больше строк\n",
    "pd.set_option('display.max_columns', 50) # показывать больше колонок\n",
    "\n",
    "stud = pd.read_csv('stud_math.csv')\n",
    "stud.info(50)\n"
   ]
  },
  {
   "cell_type": "code",
   "execution_count": 3,
   "metadata": {},
   "outputs": [],
   "source": [
    "#приведем пустые и пропущенные значения к единому виду\n",
    "for col in stud:\n",
    "    stud[col] = stud[col].apply(lambda x : None if 'nan' in str.lower(str(x)) else x)"
   ]
  },
  {
   "cell_type": "code",
   "execution_count": 4,
   "metadata": {},
   "outputs": [
    {
     "data": {
      "text/plain": [
       "GP    349\n",
       "MS     46\n",
       "Name: school, dtype: int64"
      ]
     },
     "metadata": {},
     "output_type": "display_data"
    },
    {
     "data": {
      "text/plain": [
       "F    208\n",
       "M    187\n",
       "Name: sex, dtype: int64"
      ]
     },
     "metadata": {},
     "output_type": "display_data"
    },
    {
     "data": {
      "text/plain": [
       "16    104\n",
       "17     98\n",
       "18     82\n",
       "15     82\n",
       "19     24\n",
       "20      3\n",
       "22      1\n",
       "21      1\n",
       "Name: age, dtype: int64"
      ]
     },
     "metadata": {},
     "output_type": "display_data"
    },
    {
     "data": {
      "text/plain": [
       "U    295\n",
       "R     83\n",
       "Name: address, dtype: int64"
      ]
     },
     "metadata": {},
     "output_type": "display_data"
    },
    {
     "data": {
      "text/plain": [
       "GT3    261\n",
       "LE3    107\n",
       "Name: famsize, dtype: int64"
      ]
     },
     "metadata": {},
     "output_type": "display_data"
    },
    {
     "data": {
      "text/plain": [
       "T    314\n",
       "A     36\n",
       "Name: Pstatus, dtype: int64"
      ]
     },
     "metadata": {},
     "output_type": "display_data"
    },
    {
     "data": {
      "text/plain": [
       "4.0    131\n",
       "2.0    102\n",
       "3.0     97\n",
       "1.0     59\n",
       "0.0      3\n",
       "Name: Medu, dtype: int64"
      ]
     },
     "metadata": {},
     "output_type": "display_data"
    },
    {
     "data": {
      "text/plain": [
       "2.0     106\n",
       "3.0      96\n",
       "4.0      88\n",
       "1.0      78\n",
       "0.0       2\n",
       "40.0      1\n",
       "Name: Fedu, dtype: int64"
      ]
     },
     "metadata": {},
     "output_type": "display_data"
    },
    {
     "data": {
      "text/plain": [
       "other       133\n",
       "services     98\n",
       "at_home      58\n",
       "teacher      55\n",
       "health       32\n",
       "Name: Mjob, dtype: int64"
      ]
     },
     "metadata": {},
     "output_type": "display_data"
    },
    {
     "data": {
      "text/plain": [
       "other       197\n",
       "services    102\n",
       "teacher      29\n",
       "at_home      16\n",
       "health       15\n",
       "Name: Fjob, dtype: int64"
      ]
     },
     "metadata": {},
     "output_type": "display_data"
    },
    {
     "data": {
      "text/plain": [
       "course        137\n",
       "home          104\n",
       "reputation    103\n",
       "other          34\n",
       "Name: reason, dtype: int64"
      ]
     },
     "metadata": {},
     "output_type": "display_data"
    },
    {
     "data": {
      "text/plain": [
       "mother    250\n",
       "father     86\n",
       "other      28\n",
       "Name: guardian, dtype: int64"
      ]
     },
     "metadata": {},
     "output_type": "display_data"
    },
    {
     "data": {
      "text/plain": [
       "1.0    242\n",
       "2.0     96\n",
       "3.0     22\n",
       "4.0      7\n",
       "Name: traveltime, dtype: int64"
      ]
     },
     "metadata": {},
     "output_type": "display_data"
    },
    {
     "data": {
      "text/plain": [
       "2.0    194\n",
       "1.0    103\n",
       "3.0     64\n",
       "4.0     27\n",
       "Name: studytime, dtype: int64"
      ]
     },
     "metadata": {},
     "output_type": "display_data"
    },
    {
     "data": {
      "text/plain": [
       "0.0    293\n",
       "1.0     49\n",
       "2.0     16\n",
       "3.0     15\n",
       "Name: failures, dtype: int64"
      ]
     },
     "metadata": {},
     "output_type": "display_data"
    },
    {
     "data": {
      "text/plain": [
       "no     335\n",
       "yes     51\n",
       "Name: schoolsup, dtype: int64"
      ]
     },
     "metadata": {},
     "output_type": "display_data"
    },
    {
     "data": {
      "text/plain": [
       "yes    219\n",
       "no     137\n",
       "Name: famsup, dtype: int64"
      ]
     },
     "metadata": {},
     "output_type": "display_data"
    },
    {
     "data": {
      "text/plain": [
       "no     200\n",
       "yes    155\n",
       "Name: paid, dtype: int64"
      ]
     },
     "metadata": {},
     "output_type": "display_data"
    },
    {
     "data": {
      "text/plain": [
       "yes    195\n",
       "no     186\n",
       "Name: activities, dtype: int64"
      ]
     },
     "metadata": {},
     "output_type": "display_data"
    },
    {
     "data": {
      "text/plain": [
       "yes    300\n",
       "no      79\n",
       "Name: nursery, dtype: int64"
      ]
     },
     "metadata": {},
     "output_type": "display_data"
    },
    {
     "data": {
      "text/plain": [
       "-6.0     194\n",
       "-3.0     103\n",
       "-9.0      64\n",
       "-12.0     27\n",
       "Name: studytime, granular, dtype: int64"
      ]
     },
     "metadata": {},
     "output_type": "display_data"
    },
    {
     "data": {
      "text/plain": [
       "yes    356\n",
       "no      19\n",
       "Name: higher, dtype: int64"
      ]
     },
     "metadata": {},
     "output_type": "display_data"
    },
    {
     "data": {
      "text/plain": [
       "yes    305\n",
       "no      56\n",
       "Name: internet, dtype: int64"
      ]
     },
     "metadata": {},
     "output_type": "display_data"
    },
    {
     "data": {
      "text/plain": [
       "no     240\n",
       "yes    124\n",
       "Name: romantic, dtype: int64"
      ]
     },
     "metadata": {},
     "output_type": "display_data"
    },
    {
     "data": {
      "text/plain": [
       " 4.0    182\n",
       " 5.0     99\n",
       " 3.0     62\n",
       " 2.0     17\n",
       " 1.0      7\n",
       "-1.0      1\n",
       "Name: famrel, dtype: int64"
      ]
     },
     "metadata": {},
     "output_type": "display_data"
    },
    {
     "data": {
      "text/plain": [
       "3.0    153\n",
       "4.0    112\n",
       "2.0     63\n",
       "5.0     38\n",
       "1.0     18\n",
       "Name: freetime, dtype: int64"
      ]
     },
     "metadata": {},
     "output_type": "display_data"
    },
    {
     "data": {
      "text/plain": [
       "3.0    127\n",
       "2.0    101\n",
       "4.0     84\n",
       "5.0     52\n",
       "1.0     23\n",
       "Name: goout, dtype: int64"
      ]
     },
     "metadata": {},
     "output_type": "display_data"
    },
    {
     "data": {
      "text/plain": [
       "5.0    138\n",
       "3.0     89\n",
       "4.0     63\n",
       "1.0     47\n",
       "2.0     43\n",
       "Name: health, dtype: int64"
      ]
     },
     "metadata": {},
     "output_type": "display_data"
    },
    {
     "data": {
      "text/plain": [
       "0.0      111\n",
       "2.0       60\n",
       "4.0       53\n",
       "6.0       31\n",
       "8.0       21\n",
       "10.0      17\n",
       "12.0      12\n",
       "14.0      12\n",
       "3.0        8\n",
       "16.0       7\n",
       "7.0        6\n",
       "5.0        5\n",
       "18.0       5\n",
       "20.0       4\n",
       "22.0       3\n",
       "9.0        3\n",
       "1.0        3\n",
       "15.0       2\n",
       "13.0       2\n",
       "11.0       2\n",
       "25.0       1\n",
       "54.0       1\n",
       "385.0      1\n",
       "26.0       1\n",
       "56.0       1\n",
       "24.0       1\n",
       "212.0      1\n",
       "21.0       1\n",
       "75.0       1\n",
       "30.0       1\n",
       "19.0       1\n",
       "38.0       1\n",
       "40.0       1\n",
       "23.0       1\n",
       "17.0       1\n",
       "28.0       1\n",
       "Name: absences, dtype: int64"
      ]
     },
     "metadata": {},
     "output_type": "display_data"
    },
    {
     "data": {
      "text/plain": [
       "50.0     54\n",
       "55.0     46\n",
       "0.0      37\n",
       "75.0     33\n",
       "65.0     31\n",
       "40.0     31\n",
       "60.0     31\n",
       "70.0     27\n",
       "45.0     27\n",
       "80.0     16\n",
       "30.0     15\n",
       "90.0     12\n",
       "35.0      9\n",
       "25.0      7\n",
       "85.0      6\n",
       "95.0      5\n",
       "100.0     1\n",
       "20.0      1\n",
       "Name: score, dtype: int64"
      ]
     },
     "metadata": {},
     "output_type": "display_data"
    }
   ],
   "source": [
    "#проверяем правильность заполнения таблицы school sex address famsize Pstatus Mjob Fjob reason guardian\n",
    "for col in stud:\n",
    "    display(stud[col].value_counts())"
   ]
  },
  {
   "cell_type": "code",
   "execution_count": 72,
   "metadata": {},
   "outputs": [],
   "source": [
    "#1 OK school — аббревиатура школы, в которой учится ученик\n",
    "#2 OK sex — пол ученика ('F' - женский, 'M' - мужской)\n",
    "#3 OK age — возраст ученика (от 15 до 22)\n",
    "#4 OK address — тип адреса ученика ('U' - городской, 'R' - за городом)\n",
    "#5 OK famsize — размер семьи('LE3' <= 3, 'GT3' >3)\n",
    "#6 OK Pstatus — статус совместного жилья родителей ('T' - живут вместе 'A' - раздельно)\n",
    "#7 OK Medu — образование матери (0 - нет, 1 - 4 класса, 2 - 5-9 классы, 3 - среднее специальное или 11 классов, 4 - высшее)\n",
    "#8 ЕСТЬ ЗНАЧЕНИЯ ВНЕ ДИАПАЗОНА Fedu — образование отца (0 - нет, 1 - 4 класса, 2 - 5-9 классы, 3 - среднее специальное или 11 классов, 4 - высшее)\n",
    "#9 OK Mjob — работа матери ('teacher' - учитель, 'health' - сфера здравоохранения, 'services' - гос служба, 'at_home' - не работает, 'other' - другое)\n",
    "#10 OK Fjob — работа отца ('teacher' - учитель, 'health' - сфера здравоохранения, 'services' - гос служба, 'at_home' - не работает, 'other' - другое)\n",
    "#11 OK reason — причина выбора школы ('home' - близость к дому, 'reputation' - репутация школы, 'course' - образовательная программа, 'other' - другое)\n",
    "#12 OK guardian — опекун ('mother' - мать, 'father' - отец, 'other' - другое)\n",
    "#13 OK traveltime — время в пути до школы (1 - <15 мин., 2 - 15-30 мин., 3 - 30-60 мин., 4 - >60 мин.)\n",
    "#14 OK studytime — время на учёбу помимо школы в неделю (1 - <2 часов, 2 - 2-5 часов, 3 - 5-10 часов, 4 - >10 часов)\n",
    "#15 OK failures — количество внеучебных неудач (n, если 1<=n<=3, иначе 0)\n",
    "#16 OK schoolsup — дополнительная образовательная поддержка (yes или no)\n",
    "#17 OK famsup — семейная образовательная поддержка (yes или no)\n",
    "#18 OK paid — дополнительные платные занятия по математике (yes или no)\n",
    "#19 OK activities — дополнительные внеучебные занятия (yes или no)\n",
    "#20 OK nursery — посещал детский сад (yes или no)\n",
    "#21 OK higher — хочет получить высшее образование (yes или no)\n",
    "#22 OK internet — наличие интернета дома (yes или no)\n",
    "#23 OK romantic — в романтических отношениях (yes или no)\n",
    "#24 ЕСТЬ ЗНАЧЕНИЯ ВНЕ ДИАПАЗОНА famrel — семейные отношения (от 1 - очень плохо до 5 - очень хорошо)\n",
    "#25 OK freetime — свободное время после школы (от 1 - очень мало до 5 - очень мого)\n",
    "#26 OK goout — проведение времени с друзьями (от 1 - очень мало до 5 - очень много)\n",
    "#27 OK health — текущее состояние здоровья (от 1 - очень плохо до 5 - очень хорошо)\n",
    "#28 OK absences — количество пропущенных занятий\n",
    "#29 СЛИШКОМ МНОГО НУЛЕВЫХ ОЦЕНОК score — баллы по госэкзамену по математике\n",
    "\n",
    "    "
   ]
  },
  {
   "cell_type": "code",
   "execution_count": null,
   "metadata": {},
   "outputs": [],
   "source": [
    "#исправляем ошибки    "
   ]
  },
  {
   "cell_type": "code",
   "execution_count": 6,
   "metadata": {},
   "outputs": [
    {
     "data": {
      "text/plain": [
       "2.0    106\n",
       "3.0     96\n",
       "4.0     89\n",
       "1.0     78\n",
       "0.0      2\n",
       "Name: Fedu, dtype: int64"
      ]
     },
     "execution_count": 6,
     "metadata": {},
     "output_type": "execute_result"
    }
   ],
   "source": [
    "#8 ЕСТЬ ЗНАЧЕНИЯ ВНЕ ДИАПАЗОНА Fedu — образование отца (0 - нет, 1 - 4 класса, 2 - 5-9 классы, 3 - среднее специальное или 11 классов, 4 - в() \n",
    "stud.Fedu.loc[stud.Fedu == 40] = 4\n",
    "stud.Fedu.value_counts()"
   ]
  },
  {
   "cell_type": "code",
   "execution_count": 7,
   "metadata": {},
   "outputs": [
    {
     "data": {
      "text/plain": [
       "4.0    182\n",
       "5.0     99\n",
       "3.0     62\n",
       "2.0     17\n",
       "1.0      8\n",
       "Name: famrel, dtype: int64"
      ]
     },
     "execution_count": 7,
     "metadata": {},
     "output_type": "execute_result"
    }
   ],
   "source": [
    "#24 ЕСТЬ ЗНАЧЕНИЯ ВНЕ ДИАПАЗОНА famrel — семейные отношения (от 1 - очень плохо до 5 - очень хорошо)\n",
    "stud.famrel.loc[stud['famrel'] == -1.0] = 1.0\n",
    "stud.famrel.value_counts()"
   ]
  },
  {
   "cell_type": "code",
   "execution_count": 190,
   "metadata": {},
   "outputs": [],
   "source": [
    "#Проанализируем числовые столбцы и удалим выбросы\n",
    "#age\n",
    "#absences\n",
    "#score\n"
   ]
  },
  {
   "cell_type": "code",
   "execution_count": 8,
   "metadata": {},
   "outputs": [
    {
     "data": {
      "text/plain": [
       "16    104\n",
       "17     98\n",
       "18     82\n",
       "15     82\n",
       "19     24\n",
       "20      3\n",
       "22      1\n",
       "21      1\n",
       "Name: age, dtype: int64"
      ]
     },
     "execution_count": 8,
     "metadata": {},
     "output_type": "execute_result"
    }
   ],
   "source": [
    "#age \n",
    "stud.age.value_counts()\n",
    "#Значений в принципе немного и они довольно кучные, очевидно что выбросов тут нет"
   ]
  },
  {
   "cell_type": "code",
   "execution_count": 9,
   "metadata": {},
   "outputs": [
    {
     "data": {
      "text/plain": [
       "count    383.000000\n",
       "mean       7.279373\n",
       "std       23.465197\n",
       "min        0.000000\n",
       "25%        0.000000\n",
       "50%        4.000000\n",
       "75%        8.000000\n",
       "max      385.000000\n",
       "Name: absences, dtype: float64"
      ]
     },
     "execution_count": 9,
     "metadata": {},
     "output_type": "execute_result"
    },
    {
     "data": {
      "image/png": "[encoded data removed]",
      "text/plain": [
       "<Figure size 432x288 with 1 Axes>"
      ]
     },
     "metadata": {
      "needs_background": "light"
     },
     "output_type": "display_data"
    }
   ],
   "source": [
    "#absences\n",
    "stud.absences.hist()\n",
    "stud.absences.describe()\n",
    "#выбросы очевидно есть, определим их по формуле интерквартильного расстояния"
   ]
  },
  {
   "cell_type": "code",
   "execution_count": 11,
   "metadata": {},
   "outputs": [
    {
     "data": {
      "text/plain": [
       "<matplotlib.axes._subplots.AxesSubplot at 0xbaae4c8>"
      ]
     },
     "execution_count": 11,
     "metadata": {},
     "output_type": "execute_result"
    },
    {
     "data": {
      "image/png": "[encoded data removed]",
      "text/plain": [
       "<Figure size 432x288 with 1 Axes>"
      ]
     },
     "metadata": {
      "needs_background": "light"
     },
     "output_type": "display_data"
    }
   ],
   "source": [
    "median = stud.absences.median()\n",
    "IQR = stud.absences.quantile(0.75) - stud.absences.quantile(0.25)\n",
    "stud.absences.loc[stud.absences.between(median - 1.5*IQR, median + 1.5*IQR)].hist()"
   ]
  },
  {
   "cell_type": "code",
   "execution_count": 12,
   "metadata": {},
   "outputs": [
    {
     "data": {
      "text/plain": [
       "0.8987341772151899"
      ]
     },
     "execution_count": 12,
     "metadata": {},
     "output_type": "execute_result"
    }
   ],
   "source": [
    "len(stud.absences.loc[stud.absences.between(median - 1.5*IQR, median + 1.5*IQR)])/len(stud.absences) #определим долю \"выпавших\" измерений"
   ]
  },
  {
   "cell_type": "code",
   "execution_count": 13,
   "metadata": {},
   "outputs": [],
   "source": [
    "#утратили совсем небольшое количество наблюдений, поэтому этот метод считаем успешно примененным\n",
    "stud = stud.loc[stud.absences.between(median - 1.5*IQR, median + 1.5*IQR)] #отбрасываем ненужные данные"
   ]
  },
  {
   "cell_type": "code",
   "execution_count": 14,
   "metadata": {},
   "outputs": [
    {
     "data": {
      "text/plain": [
       "<matplotlib.axes._subplots.AxesSubplot at 0xa89cf08>"
      ]
     },
     "execution_count": 14,
     "metadata": {},
     "output_type": "execute_result"
    },
    {
     "data": {
      "image/png": "[encoded data removed]",
      "text/plain": [
       "<Figure size 432x288 with 1 Axes>"
      ]
     },
     "metadata": {
      "needs_background": "light"
     },
     "output_type": "display_data"
    }
   ],
   "source": [
    "#score\n",
    "stud.score.hist()\n",
    "#очевидно, что часть значений утеряна, распределение близкое к нормальному, нулевые значения отсекаем"
   ]
  },
  {
   "cell_type": "code",
   "execution_count": 16,
   "metadata": {},
   "outputs": [],
   "source": [
    "stud = stud.loc[stud.score != 0] #удаляем строки с нулевым значением\n",
    "stud = stud.loc[pd.isnull(stud.score) == False] #удаляем строки с пустым значением"
   ]
  },
  {
   "cell_type": "code",
   "execution_count": 17,
   "metadata": {},
   "outputs": [
    {
     "data": {
      "text/html": [
       "<div>\n",
       "<style scoped>\n",
       "    .dataframe tbody tr th:only-of-type {\n",
       "        vertical-align: middle;\n",
       "    }\n",
       "\n",
       "    .dataframe tbody tr th {\n",
       "        vertical-align: top;\n",
       "    }\n",
       "\n",
       "    .dataframe thead th {\n",
       "        text-align: right;\n",
       "    }\n",
       "</style>\n",
       "<table border=\"1\" class=\"dataframe\">\n",
       "  <thead>\n",
       "    <tr style=\"text-align: right;\">\n",
       "      <th></th>\n",
       "      <th>score</th>\n",
       "      <th>absences</th>\n",
       "      <th>age</th>\n",
       "      <th>Medu</th>\n",
       "      <th>Fedu</th>\n",
       "      <th>traveltime</th>\n",
       "      <th>studytime</th>\n",
       "      <th>famrel</th>\n",
       "      <th>freetime</th>\n",
       "      <th>goout</th>\n",
       "      <th>health</th>\n",
       "      <th>studytime, granular</th>\n",
       "      <th>failures</th>\n",
       "    </tr>\n",
       "  </thead>\n",
       "  <tbody>\n",
       "    <tr>\n",
       "      <th>score</th>\n",
       "      <td>1.000000</td>\n",
       "      <td>-0.228055</td>\n",
       "      <td>-0.139133</td>\n",
       "      <td>0.187431</td>\n",
       "      <td>0.131943</td>\n",
       "      <td>-0.082367</td>\n",
       "      <td>0.143647</td>\n",
       "      <td>0.074168</td>\n",
       "      <td>-0.007956</td>\n",
       "      <td>-0.199393</td>\n",
       "      <td>-0.058350</td>\n",
       "      <td>-0.143647</td>\n",
       "      <td>-0.288309</td>\n",
       "    </tr>\n",
       "    <tr>\n",
       "      <th>absences</th>\n",
       "      <td>-0.228055</td>\n",
       "      <td>1.000000</td>\n",
       "      <td>0.192561</td>\n",
       "      <td>0.087991</td>\n",
       "      <td>-0.006420</td>\n",
       "      <td>-0.052914</td>\n",
       "      <td>-0.054869</td>\n",
       "      <td>-0.109982</td>\n",
       "      <td>0.071406</td>\n",
       "      <td>0.162470</td>\n",
       "      <td>-0.017692</td>\n",
       "      <td>0.054869</td>\n",
       "      <td>0.183278</td>\n",
       "    </tr>\n",
       "    <tr>\n",
       "      <th>age</th>\n",
       "      <td>-0.139133</td>\n",
       "      <td>0.192561</td>\n",
       "      <td>1.000000</td>\n",
       "      <td>-0.134997</td>\n",
       "      <td>-0.143197</td>\n",
       "      <td>0.088483</td>\n",
       "      <td>0.007275</td>\n",
       "      <td>0.064372</td>\n",
       "      <td>0.026464</td>\n",
       "      <td>0.144829</td>\n",
       "      <td>-0.030568</td>\n",
       "      <td>-0.007275</td>\n",
       "      <td>0.203033</td>\n",
       "    </tr>\n",
       "    <tr>\n",
       "      <th>Medu</th>\n",
       "      <td>0.187431</td>\n",
       "      <td>0.087991</td>\n",
       "      <td>-0.134997</td>\n",
       "      <td>1.000000</td>\n",
       "      <td>0.609676</td>\n",
       "      <td>-0.178028</td>\n",
       "      <td>0.083461</td>\n",
       "      <td>-0.006578</td>\n",
       "      <td>0.032750</td>\n",
       "      <td>0.043306</td>\n",
       "      <td>-0.047246</td>\n",
       "      <td>-0.083461</td>\n",
       "      <td>-0.215693</td>\n",
       "    </tr>\n",
       "    <tr>\n",
       "      <th>Fedu</th>\n",
       "      <td>0.131943</td>\n",
       "      <td>-0.006420</td>\n",
       "      <td>-0.143197</td>\n",
       "      <td>0.609676</td>\n",
       "      <td>1.000000</td>\n",
       "      <td>-0.146331</td>\n",
       "      <td>-0.018733</td>\n",
       "      <td>-0.013475</td>\n",
       "      <td>0.005747</td>\n",
       "      <td>-0.000450</td>\n",
       "      <td>0.000008</td>\n",
       "      <td>0.018733</td>\n",
       "      <td>-0.309017</td>\n",
       "    </tr>\n",
       "    <tr>\n",
       "      <th>traveltime</th>\n",
       "      <td>-0.082367</td>\n",
       "      <td>-0.052914</td>\n",
       "      <td>0.088483</td>\n",
       "      <td>-0.178028</td>\n",
       "      <td>-0.146331</td>\n",
       "      <td>1.000000</td>\n",
       "      <td>-0.101730</td>\n",
       "      <td>-0.020215</td>\n",
       "      <td>0.011461</td>\n",
       "      <td>0.025664</td>\n",
       "      <td>0.015947</td>\n",
       "      <td>0.101730</td>\n",
       "      <td>0.103164</td>\n",
       "    </tr>\n",
       "    <tr>\n",
       "      <th>studytime</th>\n",
       "      <td>0.143647</td>\n",
       "      <td>-0.054869</td>\n",
       "      <td>0.007275</td>\n",
       "      <td>0.083461</td>\n",
       "      <td>-0.018733</td>\n",
       "      <td>-0.101730</td>\n",
       "      <td>1.000000</td>\n",
       "      <td>0.056705</td>\n",
       "      <td>-0.137033</td>\n",
       "      <td>-0.016633</td>\n",
       "      <td>-0.096277</td>\n",
       "      <td>-1.000000</td>\n",
       "      <td>-0.162953</td>\n",
       "    </tr>\n",
       "    <tr>\n",
       "      <th>famrel</th>\n",
       "      <td>0.074168</td>\n",
       "      <td>-0.109982</td>\n",
       "      <td>0.064372</td>\n",
       "      <td>-0.006578</td>\n",
       "      <td>-0.013475</td>\n",
       "      <td>-0.020215</td>\n",
       "      <td>0.056705</td>\n",
       "      <td>1.000000</td>\n",
       "      <td>0.171663</td>\n",
       "      <td>0.044316</td>\n",
       "      <td>0.106583</td>\n",
       "      <td>-0.056705</td>\n",
       "      <td>0.001015</td>\n",
       "    </tr>\n",
       "    <tr>\n",
       "      <th>freetime</th>\n",
       "      <td>-0.007956</td>\n",
       "      <td>0.071406</td>\n",
       "      <td>0.026464</td>\n",
       "      <td>0.032750</td>\n",
       "      <td>0.005747</td>\n",
       "      <td>0.011461</td>\n",
       "      <td>-0.137033</td>\n",
       "      <td>0.171663</td>\n",
       "      <td>1.000000</td>\n",
       "      <td>0.291464</td>\n",
       "      <td>0.063869</td>\n",
       "      <td>0.137033</td>\n",
       "      <td>0.128090</td>\n",
       "    </tr>\n",
       "    <tr>\n",
       "      <th>goout</th>\n",
       "      <td>-0.199393</td>\n",
       "      <td>0.162470</td>\n",
       "      <td>0.144829</td>\n",
       "      <td>0.043306</td>\n",
       "      <td>-0.000450</td>\n",
       "      <td>0.025664</td>\n",
       "      <td>-0.016633</td>\n",
       "      <td>0.044316</td>\n",
       "      <td>0.291464</td>\n",
       "      <td>1.000000</td>\n",
       "      <td>0.019434</td>\n",
       "      <td>0.016633</td>\n",
       "      <td>0.103787</td>\n",
       "    </tr>\n",
       "    <tr>\n",
       "      <th>health</th>\n",
       "      <td>-0.058350</td>\n",
       "      <td>-0.017692</td>\n",
       "      <td>-0.030568</td>\n",
       "      <td>-0.047246</td>\n",
       "      <td>0.000008</td>\n",
       "      <td>0.015947</td>\n",
       "      <td>-0.096277</td>\n",
       "      <td>0.106583</td>\n",
       "      <td>0.063869</td>\n",
       "      <td>0.019434</td>\n",
       "      <td>1.000000</td>\n",
       "      <td>0.096277</td>\n",
       "      <td>0.083782</td>\n",
       "    </tr>\n",
       "    <tr>\n",
       "      <th>studytime, granular</th>\n",
       "      <td>-0.143647</td>\n",
       "      <td>0.054869</td>\n",
       "      <td>-0.007275</td>\n",
       "      <td>-0.083461</td>\n",
       "      <td>0.018733</td>\n",
       "      <td>0.101730</td>\n",
       "      <td>-1.000000</td>\n",
       "      <td>-0.056705</td>\n",
       "      <td>0.137033</td>\n",
       "      <td>0.016633</td>\n",
       "      <td>0.096277</td>\n",
       "      <td>1.000000</td>\n",
       "      <td>0.162953</td>\n",
       "    </tr>\n",
       "    <tr>\n",
       "      <th>failures</th>\n",
       "      <td>-0.288309</td>\n",
       "      <td>0.183278</td>\n",
       "      <td>0.203033</td>\n",
       "      <td>-0.215693</td>\n",
       "      <td>-0.309017</td>\n",
       "      <td>0.103164</td>\n",
       "      <td>-0.162953</td>\n",
       "      <td>0.001015</td>\n",
       "      <td>0.128090</td>\n",
       "      <td>0.103787</td>\n",
       "      <td>0.083782</td>\n",
       "      <td>0.162953</td>\n",
       "      <td>1.000000</td>\n",
       "    </tr>\n",
       "  </tbody>\n",
       "</table>\n",
       "</div>"
      ],
      "text/plain": [
       "                        score  absences       age      Medu      Fedu  \\\n",
       "score                1.000000 -0.228055 -0.139133  0.187431  0.131943   \n",
       "absences            -0.228055  1.000000  0.192561  0.087991 -0.006420   \n",
       "age                 -0.139133  0.192561  1.000000 -0.134997 -0.143197   \n",
       "Medu                 0.187431  0.087991 -0.134997  1.000000  0.609676   \n",
       "Fedu                 0.131943 -0.006420 -0.143197  0.609676  1.000000   \n",
       "traveltime          -0.082367 -0.052914  0.088483 -0.178028 -0.146331   \n",
       "studytime            0.143647 -0.054869  0.007275  0.083461 -0.018733   \n",
       "famrel               0.074168 -0.109982  0.064372 -0.006578 -0.013475   \n",
       "freetime            -0.007956  0.071406  0.026464  0.032750  0.005747   \n",
       "goout               -0.199393  0.162470  0.144829  0.043306 -0.000450   \n",
       "health              -0.058350 -0.017692 -0.030568 -0.047246  0.000008   \n",
       "studytime, granular -0.143647  0.054869 -0.007275 -0.083461  0.018733   \n",
       "failures            -0.288309  0.183278  0.203033 -0.215693 -0.309017   \n",
       "\n",
       "                     traveltime  studytime    famrel  freetime     goout  \\\n",
       "score                 -0.082367   0.143647  0.074168 -0.007956 -0.199393   \n",
       "absences              -0.052914  -0.054869 -0.109982  0.071406  0.162470   \n",
       "age                    0.088483   0.007275  0.064372  0.026464  0.144829   \n",
       "Medu                  -0.178028   0.083461 -0.006578  0.032750  0.043306   \n",
       "Fedu                  -0.146331  -0.018733 -0.013475  0.005747 -0.000450   \n",
       "traveltime             1.000000  -0.101730 -0.020215  0.011461  0.025664   \n",
       "studytime             -0.101730   1.000000  0.056705 -0.137033 -0.016633   \n",
       "famrel                -0.020215   0.056705  1.000000  0.171663  0.044316   \n",
       "freetime               0.011461  -0.137033  0.171663  1.000000  0.291464   \n",
       "goout                  0.025664  -0.016633  0.044316  0.291464  1.000000   \n",
       "health                 0.015947  -0.096277  0.106583  0.063869  0.019434   \n",
       "studytime, granular    0.101730  -1.000000 -0.056705  0.137033  0.016633   \n",
       "failures               0.103164  -0.162953  0.001015  0.128090  0.103787   \n",
       "\n",
       "                       health  studytime, granular  failures  \n",
       "score               -0.058350            -0.143647 -0.288309  \n",
       "absences            -0.017692             0.054869  0.183278  \n",
       "age                 -0.030568            -0.007275  0.203033  \n",
       "Medu                -0.047246            -0.083461 -0.215693  \n",
       "Fedu                 0.000008             0.018733 -0.309017  \n",
       "traveltime           0.015947             0.101730  0.103164  \n",
       "studytime           -0.096277            -1.000000 -0.162953  \n",
       "famrel               0.106583            -0.056705  0.001015  \n",
       "freetime             0.063869             0.137033  0.128090  \n",
       "goout                0.019434             0.016633  0.103787  \n",
       "health               1.000000             0.096277  0.083782  \n",
       "studytime, granular  0.096277             1.000000  0.162953  \n",
       "failures             0.083782             0.162953  1.000000  "
      ]
     },
     "execution_count": 17,
     "metadata": {},
     "output_type": "execute_result"
    }
   ],
   "source": [
    "#проведем корреляционный анализ для числовых величин\n",
    "corr_stud = stud[['score','absences','age','Medu','Fedu','traveltime','studytime','famrel','freetime','goout','health', 'studytime, granular', 'failures']].corr()\n",
    "corr_stud"
   ]
  },
  {
   "cell_type": "code",
   "execution_count": 18,
   "metadata": {},
   "outputs": [
    {
     "data": {
      "text/html": [
       "<div>\n",
       "<style scoped>\n",
       "    .dataframe tbody tr th:only-of-type {\n",
       "        vertical-align: middle;\n",
       "    }\n",
       "\n",
       "    .dataframe tbody tr th {\n",
       "        vertical-align: top;\n",
       "    }\n",
       "\n",
       "    .dataframe thead th {\n",
       "        text-align: right;\n",
       "    }\n",
       "</style>\n",
       "<table border=\"1\" class=\"dataframe\">\n",
       "  <thead>\n",
       "    <tr style=\"text-align: right;\">\n",
       "      <th></th>\n",
       "      <th>score</th>\n",
       "      <th>absences</th>\n",
       "      <th>age</th>\n",
       "      <th>Medu</th>\n",
       "      <th>Fedu</th>\n",
       "      <th>traveltime</th>\n",
       "      <th>studytime</th>\n",
       "      <th>famrel</th>\n",
       "      <th>freetime</th>\n",
       "      <th>goout</th>\n",
       "      <th>health</th>\n",
       "      <th>studytime, granular</th>\n",
       "      <th>failures</th>\n",
       "    </tr>\n",
       "  </thead>\n",
       "  <tbody>\n",
       "    <tr>\n",
       "      <th>traveltime</th>\n",
       "      <td>-0.082367</td>\n",
       "      <td>-0.052914</td>\n",
       "      <td>0.088483</td>\n",
       "      <td>-0.178028</td>\n",
       "      <td>-0.146331</td>\n",
       "      <td>1.000000</td>\n",
       "      <td>-0.101730</td>\n",
       "      <td>-0.020215</td>\n",
       "      <td>0.011461</td>\n",
       "      <td>0.025664</td>\n",
       "      <td>0.015947</td>\n",
       "      <td>0.101730</td>\n",
       "      <td>0.103164</td>\n",
       "    </tr>\n",
       "    <tr>\n",
       "      <th>famrel</th>\n",
       "      <td>0.074168</td>\n",
       "      <td>-0.109982</td>\n",
       "      <td>0.064372</td>\n",
       "      <td>-0.006578</td>\n",
       "      <td>-0.013475</td>\n",
       "      <td>-0.020215</td>\n",
       "      <td>0.056705</td>\n",
       "      <td>1.000000</td>\n",
       "      <td>0.171663</td>\n",
       "      <td>0.044316</td>\n",
       "      <td>0.106583</td>\n",
       "      <td>-0.056705</td>\n",
       "      <td>0.001015</td>\n",
       "    </tr>\n",
       "    <tr>\n",
       "      <th>freetime</th>\n",
       "      <td>-0.007956</td>\n",
       "      <td>0.071406</td>\n",
       "      <td>0.026464</td>\n",
       "      <td>0.032750</td>\n",
       "      <td>0.005747</td>\n",
       "      <td>0.011461</td>\n",
       "      <td>-0.137033</td>\n",
       "      <td>0.171663</td>\n",
       "      <td>1.000000</td>\n",
       "      <td>0.291464</td>\n",
       "      <td>0.063869</td>\n",
       "      <td>0.137033</td>\n",
       "      <td>0.128090</td>\n",
       "    </tr>\n",
       "    <tr>\n",
       "      <th>health</th>\n",
       "      <td>-0.058350</td>\n",
       "      <td>-0.017692</td>\n",
       "      <td>-0.030568</td>\n",
       "      <td>-0.047246</td>\n",
       "      <td>0.000008</td>\n",
       "      <td>0.015947</td>\n",
       "      <td>-0.096277</td>\n",
       "      <td>0.106583</td>\n",
       "      <td>0.063869</td>\n",
       "      <td>0.019434</td>\n",
       "      <td>1.000000</td>\n",
       "      <td>0.096277</td>\n",
       "      <td>0.083782</td>\n",
       "    </tr>\n",
       "  </tbody>\n",
       "</table>\n",
       "</div>"
      ],
      "text/plain": [
       "               score  absences       age      Medu      Fedu  traveltime  \\\n",
       "traveltime -0.082367 -0.052914  0.088483 -0.178028 -0.146331    1.000000   \n",
       "famrel      0.074168 -0.109982  0.064372 -0.006578 -0.013475   -0.020215   \n",
       "freetime   -0.007956  0.071406  0.026464  0.032750  0.005747    0.011461   \n",
       "health     -0.058350 -0.017692 -0.030568 -0.047246  0.000008    0.015947   \n",
       "\n",
       "            studytime    famrel  freetime     goout    health  \\\n",
       "traveltime  -0.101730 -0.020215  0.011461  0.025664  0.015947   \n",
       "famrel       0.056705  1.000000  0.171663  0.044316  0.106583   \n",
       "freetime    -0.137033  0.171663  1.000000  0.291464  0.063869   \n",
       "health      -0.096277  0.106583  0.063869  0.019434  1.000000   \n",
       "\n",
       "            studytime, granular  failures  \n",
       "traveltime             0.101730  0.103164  \n",
       "famrel                -0.056705  0.001015  \n",
       "freetime               0.137033  0.128090  \n",
       "health                 0.096277  0.083782  "
      ]
     },
     "execution_count": 18,
     "metadata": {},
     "output_type": "execute_result"
    }
   ],
   "source": [
    "corr_stud.loc[abs(corr_stud.score) < 0.1] #отберем наименее коррелирующие величины со score"
   ]
  },
  {
   "cell_type": "code",
   "execution_count": 26,
   "metadata": {},
   "outputs": [],
   "source": [
    "stud.drop(['traveltime','famrel','freetime','health', 'studytime, granular'], axis='columns', inplace=True) #удаляем столбцы в том числе studytime, granular - т.к. он 100% коррелирует со столбцом studytime\n"
   ]
  },
  {
   "cell_type": "code",
   "execution_count": 19,
   "metadata": {},
   "outputs": [],
   "source": [
    "#Проанализируем номинативные переменные\n",
    "def get_boxplot(column): #определим функцию для построения нескольких боксплотов \n",
    "    fig, ax = plt.subplots(figsize = (14, 4))\n",
    "    sns.boxplot(x=column, y='score', \n",
    "                data=stud.loc[stud.loc[:, column].isin(stud.loc[:, column])],\n",
    "               ax=ax)\n",
    "    plt.xticks(rotation=45)\n",
    "    ax.set_title('Boxplot for ' + column)\n",
    "    plt.show()\n",
    "    "
   ]
  },
  {
   "cell_type": "code",
   "execution_count": 20,
   "metadata": {},
   "outputs": [
    {
     "data": {
      "image/png": "[encoded data removed]",
      "text/plain": [
       "<Figure size 1008x288 with 1 Axes>"
      ]
     },
     "metadata": {
      "needs_background": "light"
     },
     "output_type": "display_data"
    },
    {
     "data": {
      "image/png": "[encoded data removed]",
      "text/plain": [
       "<Figure size 1008x288 with 1 Axes>"
      ]
     },
     "metadata": {
      "needs_background": "light"
     },
     "output_type": "display_data"
    },
    {
     "data": {
      "image/png": "[encoded data removed]",
      "text/plain": [
       "<Figure size 1008x288 with 1 Axes>"
      ]
     },
     "metadata": {
      "needs_background": "light"
     },
     "output_type": "display_data"
    },
    {
     "data": {
      "image/png": "[encoded data removed]",
      "text/plain": [
       "<Figure size 1008x288 with 1 Axes>"
      ]
     },
     "metadata": {
      "needs_background": "light"
     },
     "output_type": "display_data"
    },
    {
     "data": {
      "image/png": "[encoded data removed]",
      "text/plain": [
       "<Figure size 1008x288 with 1 Axes>"
      ]
     },
     "metadata": {
      "needs_background": "light"
     },
     "output_type": "display_data"
    },
    {
     "data": {
      "image/png": "[encoded data removed]",
      "text/plain": [
       "<Figure size 1008x288 with 1 Axes>"
      ]
     },
     "metadata": {
      "needs_background": "light"
     },
     "output_type": "display_data"
    },
    {
     "data": {
      "image/png": "[encoded data removed]",
      "text/plain": [
       "<Figure size 1008x288 with 1 Axes>"
      ]
     },
     "metadata": {
      "needs_background": "light"
     },
     "output_type": "display_data"
    },
    {
     "data": {
      "image/png": "[encoded data removed]",
      "text/plain": [
       "<Figure size 1008x288 with 1 Axes>"
      ]
     },
     "metadata": {
      "needs_background": "light"
     },
     "output_type": "display_data"
    },
    {
     "data": {
      "image/png": "[encoded data removed]",
      "text/plain": [
       "<Figure size 1008x288 with 1 Axes>"
      ]
     },
     "metadata": {
      "needs_background": "light"
     },
     "output_type": "display_data"
    },
    {
     "data": {
      "image/png": "[encoded data removed]",
      "text/plain": [
       "<Figure size 1008x288 with 1 Axes>"
      ]
     },
     "metadata": {
      "needs_background": "light"
     },
     "output_type": "display_data"
    },
    {
     "data": {
      "image/png": "[encoded data removed]",
      "text/plain": [
       "<Figure size 1008x288 with 1 Axes>"
      ]
     },
     "metadata": {
      "needs_background": "light"
     },
     "output_type": "display_data"
    },
    {
     "data": {
      "image/png": "[encoded data removed]",
      "text/plain": [
       "<Figure size 1008x288 with 1 Axes>"
      ]
     },
     "metadata": {
      "needs_background": "light"
     },
     "output_type": "display_data"
    },
    {
     "data": {
      "image/png": "[encoded data removed]",
      "text/plain": [
       "<Figure size 1008x288 with 1 Axes>"
      ]
     },
     "metadata": {
      "needs_background": "light"
     },
     "output_type": "display_data"
    },
    {
     "data": {
      "image/png": "[encoded data removed]",
      "text/plain": [
       "<Figure size 1008x288 with 1 Axes>"
      ]
     },
     "metadata": {
      "needs_background": "light"
     },
     "output_type": "display_data"
    },
    {
     "data": {
      "image/png": "[encoded data removed]",
      "text/plain": [
       "<Figure size 1008x288 with 1 Axes>"
      ]
     },
     "metadata": {
      "needs_background": "light"
     },
     "output_type": "display_data"
    },
    {
     "data": {
      "image/png": "[encoded data removed]",
      "text/plain": [
       "<Figure size 1008x288 with 1 Axes>"
      ]
     },
     "metadata": {
      "needs_background": "light"
     },
     "output_type": "display_data"
    },
    {
     "data": {
      "image/png": "[encoded data removed]",
      "text/plain": [
       "<Figure size 1008x288 with 1 Axes>"
      ]
     },
     "metadata": {
      "needs_background": "light"
     },
     "output_type": "display_data"
    }
   ],
   "source": [
    "for col in ['school','sex','address','famsize','Pstatus','Mjob','Fjob','reason','guardian','schoolsup','famsup','paid','activities','nursery','higher','internet','romantic']:\n",
    "     get_boxplot(col) #запустим функцию по всем номинативным переменным\n",
    "    "
   ]
  },
  {
   "cell_type": "code",
   "execution_count": 21,
   "metadata": {},
   "outputs": [],
   "source": [
    "def get_stat_dif(column): #определим функцию для проведения теста Стьюдента о зависимости переменных и score\n",
    "    cols = stud.loc[:, column].value_counts().index[:10]\n",
    "    combinations_all = list(combinations(cols, 2))\n",
    "    for comb in combinations_all:\n",
    "        if ttest_ind(stud.loc[stud.loc[:, column] == comb[0], 'score'], \n",
    "                        stud.loc[stud.loc[:, column] == comb[1], 'score']).pvalue \\\n",
    "            <= 0.05/len(combinations_all): # Учли поправку Бонферони\n",
    "            print('Найдены статистически значимые различия для колонки', column)\n",
    "            break\n"
   ]
  },
  {
   "cell_type": "code",
   "execution_count": 23,
   "metadata": {},
   "outputs": [
    {
     "name": "stdout",
     "output_type": "stream",
     "text": [
      "Найдены статистически значимые различия для колонки sex\n",
      "Найдены статистически значимые различия для колонки address\n",
      "Найдены статистически значимые различия для колонки Mjob\n",
      "Найдены статистически значимые различия для колонки schoolsup\n"
     ]
    }
   ],
   "source": [
    "for col in ['school','sex','address','famsize','Pstatus','Mjob','Fjob','reason','guardian','schoolsup','famsup','paid','activities','nursery','higher','internet','romantic']:\n",
    "     get_stat_dif(col) #запустим функцию по всем номинативным переменным\n",
    "    "
   ]
  },
  {
   "cell_type": "code",
   "execution_count": 24,
   "metadata": {},
   "outputs": [],
   "source": [
    "stud.drop(['school','famsize','Pstatus','Fjob','reason','guardian','famsup','paid','activities','nursery','higher','internet','romantic'], axis='columns', inplace=True) #удаляем столбцы"
   ]
  },
  {
   "cell_type": "code",
   "execution_count": 31,
   "metadata": {},
   "outputs": [
    {
     "name": "stdout",
     "output_type": "stream",
     "text": [
      "<class 'pandas.core.frame.DataFrame'>\n",
      "Int64Index: 314 entries, 0 to 394\n",
      "Data columns (total 12 columns):\n",
      " #   Column     Non-Null Count  Dtype  \n",
      "---  ------     --------------  -----  \n",
      " 0   sex        314 non-null    object \n",
      " 1   age        314 non-null    int64  \n",
      " 2   address    301 non-null    object \n",
      " 3   Medu       312 non-null    float64\n",
      " 4   Fedu       295 non-null    float64\n",
      " 5   Mjob       300 non-null    object \n",
      " 6   studytime  309 non-null    float64\n",
      " 7   failures   297 non-null    float64\n",
      " 8   schoolsup  305 non-null    object \n",
      " 9   goout      309 non-null    float64\n",
      " 10  absences   314 non-null    float64\n",
      " 11  score      314 non-null    float64\n",
      "dtypes: float64(7), int64(1), object(4)\n",
      "memory usage: 31.9+ KB\n"
     ]
    }
   ],
   "source": [
    "stud.info()"
   ]
  },
  {
   "cell_type": "code",
   "execution_count": null,
   "metadata": {},
   "outputs": [],
   "source": [
    "#выводы\n",
    "#1) Изначальные данные были неплохими, были устранены несколько выбросов, а также исправлено несколько ошибок\n",
    "#2) Было много нулевых значений в колонке score, но заполнить их, к сожалению, не удалось\n",
    "#3) Из 29 признаков в результате анализа значимых осталось 11\n",
    "#4) Интересно. Образование матери больше влиеяет на оценку, чем образование отца"
   ]
  },
  {
   "cell_type": "code",
   "execution_count": null,
   "metadata": {},
   "outputs": [],
   "source": []
  }
 ],
 "metadata": {
  "kernelspec": {
   "display_name": "Python 3",
   "language": "python",
   "name": "python3"
  },
  "language_info": {
   "codemirror_mode": {
    "name": "ipython",
    "version": 3
   },
   "file_extension": ".py",
   "mimetype": "text/x-python",
   "name": "python",
   "nbconvert_exporter": "python",
   "pygments_lexer": "ipython3",
   "version": "3.7.6"
  }
 },
 "nbformat": 4,
 "nbformat_minor": 4
}
