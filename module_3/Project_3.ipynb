{
 "cells": [
  {
   "cell_type": "markdown",
   "metadata": {},
   "source": [
    "# Загрузим все необходимые библиотеки и наш датафрейм"
   ]
  },
  {
   "cell_type": "code",
   "execution_count": 577,
   "metadata": {},
   "outputs": [
    {
     "name": "stderr",
     "output_type": "stream",
     "text": [
      "C:\\Users\\user\\anaconda3\\lib\\site-packages\\tqdm\\std.py:658: FutureWarning: The Panel class is removed from pandas. Accessing it from the top-level namespace will also be removed in the next version\n",
      "  from pandas import Panel\n"
     ]
    }
   ],
   "source": [
    "import pandas as pd\n",
    "import numpy as np\n",
    "import seaborn as sns \n",
    "from sklearn.model_selection import train_test_split # Загружаем специальный инструмент для разбивки: \n",
    "from sklearn.ensemble import RandomForestRegressor, RandomForestClassifier # инструмент для создания и обучения модели  \n",
    "from sklearn.preprocessing import LabelEncoder\n",
    "from sklearn import metrics # инструменты для оценки точности модели  \n",
    "\n",
    "import matplotlib.pyplot as plt\n",
    "%matplotlib inline\n",
    "\n",
    "from tqdm.auto import tqdm\n",
    "tqdm.pandas()"
   ]
  },
  {
   "cell_type": "code",
   "execution_count": 578,
   "metadata": {},
   "outputs": [],
   "source": [
    "df = pd.read_csv(\"main_task.csv\")\n",
    "df_kaggle = pd.read_csv('kaggle_task.csv')"
   ]
  },
  {
   "cell_type": "code",
   "execution_count": 579,
   "metadata": {},
   "outputs": [],
   "source": [
    "#посмотрим на наш датасет"
   ]
  },
  {
   "cell_type": "code",
   "execution_count": 580,
   "metadata": {},
   "outputs": [
    {
     "data": {
      "text/plain": [
       "Index(['Restaurant_id', 'City', 'Cuisine Style', 'Ranking', 'Rating',\n",
       "       'Price Range', 'Number of Reviews', 'Reviews', 'URL_TA', 'ID_TA'],\n",
       "      dtype='object')"
      ]
     },
     "execution_count": 580,
     "metadata": {},
     "output_type": "execute_result"
    }
   ],
   "source": [
    "df.columns"
   ]
  },
  {
   "cell_type": "code",
   "execution_count": 581,
   "metadata": {},
   "outputs": [
    {
     "data": {
      "text/html": [
       "<div>\n",
       "<style scoped>\n",
       "    .dataframe tbody tr th:only-of-type {\n",
       "        vertical-align: middle;\n",
       "    }\n",
       "\n",
       "    .dataframe tbody tr th {\n",
       "        vertical-align: top;\n",
       "    }\n",
       "\n",
       "    .dataframe thead th {\n",
       "        text-align: right;\n",
       "    }\n",
       "</style>\n",
       "<table border=\"1\" class=\"dataframe\">\n",
       "  <thead>\n",
       "    <tr style=\"text-align: right;\">\n",
       "      <th></th>\n",
       "      <th>Restaurant_id</th>\n",
       "      <th>City</th>\n",
       "      <th>Cuisine Style</th>\n",
       "      <th>Ranking</th>\n",
       "      <th>Rating</th>\n",
       "      <th>Price Range</th>\n",
       "      <th>Number of Reviews</th>\n",
       "      <th>Reviews</th>\n",
       "      <th>URL_TA</th>\n",
       "      <th>ID_TA</th>\n",
       "    </tr>\n",
       "  </thead>\n",
       "  <tbody>\n",
       "    <tr>\n",
       "      <th>23337</th>\n",
       "      <td>id_99</td>\n",
       "      <td>Luxembourg</td>\n",
       "      <td>['Italian', 'Mediterranean']</td>\n",
       "      <td>100.0</td>\n",
       "      <td>4.0</td>\n",
       "      <td>$$ - $$$</td>\n",
       "      <td>40.0</td>\n",
       "      <td>[['Great decor', 'Successful relooking good fo...</td>\n",
       "      <td>/Restaurant_Review-g190356-d12813882-Reviews-S...</td>\n",
       "      <td>d12813882</td>\n",
       "    </tr>\n",
       "    <tr>\n",
       "      <th>31013</th>\n",
       "      <td>id_839</td>\n",
       "      <td>Stockholm</td>\n",
       "      <td>['Chinese', 'Asian']</td>\n",
       "      <td>840.0</td>\n",
       "      <td>4.0</td>\n",
       "      <td>$$ - $$$</td>\n",
       "      <td>28.0</td>\n",
       "      <td>[['genuine chinese food', 'Nice food'], ['11/0...</td>\n",
       "      <td>/Restaurant_Review-g189852-d7238704-Reviews-Li...</td>\n",
       "      <td>d7238704</td>\n",
       "    </tr>\n",
       "    <tr>\n",
       "      <th>11741</th>\n",
       "      <td>id_1558</td>\n",
       "      <td>Edinburgh</td>\n",
       "      <td>['Fast Food']</td>\n",
       "      <td>1563.0</td>\n",
       "      <td>3.5</td>\n",
       "      <td>$</td>\n",
       "      <td>38.0</td>\n",
       "      <td>[['Quick pitstop', 'One Man Show'], ['10/03/20...</td>\n",
       "      <td>/Restaurant_Review-g186525-d2545598-Reviews-Su...</td>\n",
       "      <td>d2545598</td>\n",
       "    </tr>\n",
       "    <tr>\n",
       "      <th>39995</th>\n",
       "      <td>id_499</td>\n",
       "      <td>Milan</td>\n",
       "      <td>['Italian', 'Vegetarian Friendly', 'Vegan Opti...</td>\n",
       "      <td>500.0</td>\n",
       "      <td>4.5</td>\n",
       "      <td>$$ - $$$</td>\n",
       "      <td>79.0</td>\n",
       "      <td>[['The real Italian experience!', 'Wonderful f...</td>\n",
       "      <td>/Restaurant_Review-g187849-d2104414-Reviews-Ro...</td>\n",
       "      <td>d2104414</td>\n",
       "    </tr>\n",
       "    <tr>\n",
       "      <th>16333</th>\n",
       "      <td>id_6226</td>\n",
       "      <td>Berlin</td>\n",
       "      <td>NaN</td>\n",
       "      <td>6228.0</td>\n",
       "      <td>3.5</td>\n",
       "      <td>NaN</td>\n",
       "      <td>5.0</td>\n",
       "      <td>[[], []]</td>\n",
       "      <td>/Restaurant_Review-g187323-d5518525-Reviews-Pi...</td>\n",
       "      <td>d5518525</td>\n",
       "    </tr>\n",
       "  </tbody>\n",
       "</table>\n",
       "</div>"
      ],
      "text/plain": [
       "      Restaurant_id        City  \\\n",
       "23337         id_99  Luxembourg   \n",
       "31013        id_839   Stockholm   \n",
       "11741       id_1558   Edinburgh   \n",
       "39995        id_499       Milan   \n",
       "16333       id_6226      Berlin   \n",
       "\n",
       "                                           Cuisine Style  Ranking  Rating  \\\n",
       "23337                       ['Italian', 'Mediterranean']    100.0     4.0   \n",
       "31013                               ['Chinese', 'Asian']    840.0     4.0   \n",
       "11741                                      ['Fast Food']   1563.0     3.5   \n",
       "39995  ['Italian', 'Vegetarian Friendly', 'Vegan Opti...    500.0     4.5   \n",
       "16333                                                NaN   6228.0     3.5   \n",
       "\n",
       "      Price Range  Number of Reviews  \\\n",
       "23337    $$ - $$$               40.0   \n",
       "31013    $$ - $$$               28.0   \n",
       "11741           $               38.0   \n",
       "39995    $$ - $$$               79.0   \n",
       "16333         NaN                5.0   \n",
       "\n",
       "                                                 Reviews  \\\n",
       "23337  [['Great decor', 'Successful relooking good fo...   \n",
       "31013  [['genuine chinese food', 'Nice food'], ['11/0...   \n",
       "11741  [['Quick pitstop', 'One Man Show'], ['10/03/20...   \n",
       "39995  [['The real Italian experience!', 'Wonderful f...   \n",
       "16333                                           [[], []]   \n",
       "\n",
       "                                                  URL_TA      ID_TA  \n",
       "23337  /Restaurant_Review-g190356-d12813882-Reviews-S...  d12813882  \n",
       "31013  /Restaurant_Review-g189852-d7238704-Reviews-Li...   d7238704  \n",
       "11741  /Restaurant_Review-g186525-d2545598-Reviews-Su...   d2545598  \n",
       "39995  /Restaurant_Review-g187849-d2104414-Reviews-Ro...   d2104414  \n",
       "16333  /Restaurant_Review-g187323-d5518525-Reviews-Pi...   d5518525  "
      ]
     },
     "execution_count": 581,
     "metadata": {},
     "output_type": "execute_result"
    }
   ],
   "source": [
    "df.sample(5)"
   ]
  },
  {
   "cell_type": "code",
   "execution_count": 582,
   "metadata": {},
   "outputs": [
    {
     "name": "stdout",
     "output_type": "stream",
     "text": [
      "<class 'pandas.core.frame.DataFrame'>\n",
      "RangeIndex: 40000 entries, 0 to 39999\n",
      "Data columns (total 10 columns):\n",
      " #   Column             Non-Null Count  Dtype  \n",
      "---  ------             --------------  -----  \n",
      " 0   Restaurant_id      40000 non-null  object \n",
      " 1   City               40000 non-null  object \n",
      " 2   Cuisine Style      30717 non-null  object \n",
      " 3   Ranking            40000 non-null  float64\n",
      " 4   Rating             40000 non-null  float64\n",
      " 5   Price Range        26114 non-null  object \n",
      " 6   Number of Reviews  37457 non-null  float64\n",
      " 7   Reviews            40000 non-null  object \n",
      " 8   URL_TA             40000 non-null  object \n",
      " 9   ID_TA              40000 non-null  object \n",
      "dtypes: float64(3), object(7)\n",
      "memory usage: 3.1+ MB\n"
     ]
    }
   ],
   "source": [
    "df.info()"
   ]
  },
  {
   "cell_type": "code",
   "execution_count": 583,
   "metadata": {},
   "outputs": [
    {
     "name": "stdout",
     "output_type": "stream",
     "text": [
      "<class 'pandas.core.frame.DataFrame'>\n",
      "RangeIndex: 10000 entries, 0 to 9999\n",
      "Data columns (total 9 columns):\n",
      " #   Column             Non-Null Count  Dtype  \n",
      "---  ------             --------------  -----  \n",
      " 0   Restaurant_id      10000 non-null  object \n",
      " 1   City               10000 non-null  object \n",
      " 2   Cuisine Style      7693 non-null   object \n",
      " 3   Ranking            10000 non-null  float64\n",
      " 4   Price Range        6525 non-null   object \n",
      " 5   Number of Reviews  9343 non-null   float64\n",
      " 6   Reviews            9998 non-null   object \n",
      " 7   URL_TA             10000 non-null  object \n",
      " 8   ID_TA              10000 non-null  object \n",
      "dtypes: float64(2), object(7)\n",
      "memory usage: 703.2+ KB\n"
     ]
    }
   ],
   "source": [
    "df_kaggle.info()"
   ]
  },
  {
   "cell_type": "markdown",
   "metadata": {},
   "source": [
    "# Определим функцию, которая будет принимат на вход датафрейм, и выдавать значения метрики"
   ]
  },
  {
   "cell_type": "code",
   "execution_count": 584,
   "metadata": {},
   "outputs": [],
   "source": [
    "def model_MAE (df, random_state=None):\n",
    "    # Разбиваем датафрейм на части, необходимые для обучения и тестирования модели  \n",
    "    # Х - данные с информацией о ресторанах, у - целевая переменная (рейтинги ресторанов)  \n",
    "    X = df.drop('Rating', axis = 1)  \n",
    "    y = df['Rating']  \n",
    "\n",
    "    # Наборы данных с меткой \"train\" будут использоваться для обучения модели, \"test\" - для тестирования.  \n",
    "    # Для тестирования мы будем использовать 25% от исходного датасета.  \n",
    "    X_train, X_test, y_train, y_test = train_test_split(X, y, test_size=0.25)\n",
    "    # Создаём модель  \n",
    "    regr = RandomForestRegressor(n_estimators=100)  \n",
    "  \n",
    "    # Обучаем модель на тестовом наборе данных  \n",
    "    regr.fit(X_train, y_train)  \n",
    "  \n",
    "    # Используем обученную модель для предсказания рейтинга ресторанов в тестовой выборке.  \n",
    "    # Предсказанные значения записываем в переменную y_pred  \n",
    "    y_pred = regr.predict(X_test)\n",
    "\n",
    "    # Сравниваем предсказанные значения (y_pred) с реальными (y_test), и смотрим насколько они в среднем отличаются  \n",
    "    # Метрика называется Mean Absolute Error (MAE) и показывает среднее отклонение предсказанных значений от фактических.  \n",
    "    print('MAE reg:', metrics.mean_absolute_error(y_test, y_pred))"
   ]
  },
  {
   "cell_type": "code",
   "execution_count": 585,
   "metadata": {},
   "outputs": [],
   "source": [
    "#запустим нашу модель на \"сыром\" датасете, оставив только колонки \"Number of Reviews\" и \"Ranking\" "
   ]
  },
  {
   "cell_type": "code",
   "execution_count": 586,
   "metadata": {},
   "outputs": [
    {
     "name": "stdout",
     "output_type": "stream",
     "text": [
      "MAE reg: 0.42697555169959067\n"
     ]
    }
   ],
   "source": [
    "cols_to_drop = ['Restaurant_id', 'City', 'Cuisine Style',\n",
    "       'Price Range', 'Reviews', 'URL_TA', 'ID_TA']\n",
    "model_MAE(df.drop(columns=cols_to_drop).dropna(), random_state=300)"
   ]
  },
  {
   "cell_type": "code",
   "execution_count": 587,
   "metadata": {},
   "outputs": [],
   "source": [
    "#продолжим улучшать значение метрики в том числе и с помощью future engeneering"
   ]
  },
  {
   "cell_type": "code",
   "execution_count": 588,
   "metadata": {},
   "outputs": [
    {
     "data": {
      "text/plain": [
       "London        5757\n",
       "Paris         4897\n",
       "Madrid        3108\n",
       "Barcelona     2734\n",
       "Berlin        2155\n",
       "Milan         2133\n",
       "Rome          2078\n",
       "Prague        1443\n",
       "Lisbon        1300\n",
       "Vienna        1166\n",
       "Amsterdam     1086\n",
       "Brussels      1060\n",
       "Hamburg        949\n",
       "Munich         893\n",
       "Lyon           892\n",
       "Stockholm      820\n",
       "Budapest       816\n",
       "Warsaw         727\n",
       "Dublin         673\n",
       "Copenhagen     659\n",
       "Athens         628\n",
       "Edinburgh      596\n",
       "Zurich         538\n",
       "Oporto         513\n",
       "Geneva         481\n",
       "Krakow         443\n",
       "Oslo           385\n",
       "Helsinki       376\n",
       "Bratislava     301\n",
       "Luxembourg     210\n",
       "Ljubljana      183\n",
       "Name: City, dtype: int64"
      ]
     },
     "execution_count": 588,
     "metadata": {},
     "output_type": "execute_result"
    }
   ],
   "source": [
    "#начнем со столбца City\n",
    "df.City.value_counts()\n"
   ]
  },
  {
   "cell_type": "code",
   "execution_count": 589,
   "metadata": {},
   "outputs": [],
   "source": [
    "# создадим словарь c туристическими индексами городов по статистике за 2018 год от Euromonitor и Mastercard\n",
    "touristic = {'London': 19333, 'Paris': 17560 , 'Madrid': 5440, 'Barcelona': 6714, 'Berlin': 5959, 'Milan': 6481, 'Rome': 10065, 'Prague': 8948, 'Lisbon': 3539, 'Vienna': 6410, 'Amsterdam': 8354 , 'Brussels': 3942, 'Hamburg': 1450, 'Munich': 4066, 'Lyon': None, 'Stockholm': 2604,\n",
    "              'Budapest': 3822, 'Warsaw': 2850, 'Dublin': 5213, 'Copenhagen': 3069, 'Athens': 5728, 'Edinburgh': 1660, 'Zurich': 2240, 'Oporto': 2341, 'Geneva': 1150, 'Krakow': 2732, 'Oslo': None, 'Helsinki': None, 'Bratislava': None, 'Luxembourg': None, 'Ljubljana': None}\n",
    "df['touristic'] = df.City.replace(to_replace=touristic)\n",
    "df_kaggle['touristic'] = df_kaggle.City.replace(to_replace=touristic)\n"
   ]
  },
  {
   "cell_type": "code",
   "execution_count": 590,
   "metadata": {},
   "outputs": [
    {
     "name": "stdout",
     "output_type": "stream",
     "text": [
      "MAE reg: 0.22724622887603493\n"
     ]
    }
   ],
   "source": [
    "#проверим как это сработало\n",
    "cols_to_drop = ['Restaurant_id', 'City', 'Cuisine Style',\n",
    "       'Price Range', 'Reviews', 'URL_TA', 'ID_TA']\n",
    "model_MAE(df.drop(columns=cols_to_drop).dropna(), random_state=300)"
   ]
  },
  {
   "cell_type": "code",
   "execution_count": 591,
   "metadata": {},
   "outputs": [
    {
     "data": {
      "text/plain": [
       "str"
      ]
     },
     "execution_count": 591,
     "metadata": {},
     "output_type": "execute_result"
    }
   ],
   "source": [
    "#продолжим со столбцом Cuisine Style\n",
    "type(df['Cuisine Style'][0])\n",
    "#это строка, нужно вычленить список кухонь"
   ]
  },
  {
   "cell_type": "code",
   "execution_count": 592,
   "metadata": {},
   "outputs": [],
   "source": [
    "#создадим признак, куда разместим список кухонь для каждого рсторана\n",
    "df['Cuisine Style List'] = df['Cuisine Style'].str.findall(r\"'([\\w\\s]*)'\")\n",
    "\n",
    "df_kaggle['Cuisine Style List'] = df_kaggle['Cuisine Style'].str.findall(r\"'([\\w\\s]*)'\")"
   ]
  },
  {
   "cell_type": "code",
   "execution_count": 593,
   "metadata": {},
   "outputs": [],
   "source": [
    "#создадим признак с количеством кухонь\n",
    "df['Numbers of Cuisines'] = df['Cuisine Style List'].str.len()\n",
    "\n",
    "df_kaggle['Numbers of Cuisines'] = df_kaggle['Cuisine Style List'].str.len()\n"
   ]
  },
  {
   "cell_type": "code",
   "execution_count": 594,
   "metadata": {},
   "outputs": [
    {
     "data": {
      "text/plain": [
       "0       2.000000\n",
       "1       5.000000\n",
       "2       1.000000\n",
       "3       5.000000\n",
       "4       6.000000\n",
       "          ...   \n",
       "9995    4.000000\n",
       "9996    4.000000\n",
       "9997    3.126999\n",
       "9998    1.000000\n",
       "9999    3.126999\n",
       "Name: Numbers of Cuisines, Length: 10000, dtype: float64"
      ]
     },
     "execution_count": 594,
     "metadata": {},
     "output_type": "execute_result"
    }
   ],
   "source": [
    "df['Numbers of Cuisines'].fillna(df['Numbers of Cuisines'].mean())\n",
    "\n",
    "df_kaggle['Numbers of Cuisines'].fillna(df_kaggle['Numbers of Cuisines'].mean())\n",
    "\n"
   ]
  },
  {
   "cell_type": "code",
   "execution_count": 595,
   "metadata": {},
   "outputs": [
    {
     "name": "stdout",
     "output_type": "stream",
     "text": [
      "MAE reg: 0.2212724142877636\n"
     ]
    }
   ],
   "source": [
    "#проверим как влияет новый признак на метрику\n",
    "cols_to_drop = ['Restaurant_id', 'City', 'Cuisine Style',\n",
    "       'Price Range', 'Reviews', 'URL_TA', 'ID_TA', 'Cuisine Style List']\n",
    "model_MAE(df.drop(columns=cols_to_drop).dropna(), random_state=300)"
   ]
  },
  {
   "cell_type": "code",
   "execution_count": 596,
   "metadata": {},
   "outputs": [],
   "source": [
    "#создадим список всех кухонь"
   ]
  },
  {
   "cell_type": "code",
   "execution_count": 597,
   "metadata": {},
   "outputs": [
    {
     "data": {
      "text/plain": [
       "Vegetarian Friendly    11189\n",
       "European               10060\n",
       "Mediterranean           6277\n",
       "Italian                 5964\n",
       "Vegan Options           4486\n",
       "                       ...  \n",
       "Xinjiang                   1\n",
       "Latvian                    1\n",
       "Burmese                    1\n",
       "Yunnan                     1\n",
       "Salvadoran                 1\n",
       "Length: 124, dtype: int64"
      ]
     },
     "execution_count": 597,
     "metadata": {},
     "output_type": "execute_result"
    }
   ],
   "source": [
    "cuisines_list = []\n",
    "for rest in df['Cuisine Style List'].dropna():\n",
    "    for i in range(len(rest)):\n",
    "        cuisines_list.append(rest[i])\n",
    "cuisine_list = pd.Series(cuisines_list).value_counts()\n",
    "cuisine_list"
   ]
  },
  {
   "cell_type": "code",
   "execution_count": 598,
   "metadata": {},
   "outputs": [],
   "source": [
    "#если количество кухонь сильно не повлияло на результат, то проверим гипотезу о том, \n",
    "#что наличие той или иной кухни в ресторане влияет на результат\n",
    "#допустим что 20% всех кухонь дают 80% от всего результата\n",
    "#создадим список популярных кухонь"
   ]
  },
  {
   "cell_type": "code",
   "execution_count": 599,
   "metadata": {},
   "outputs": [
    {
     "data": {
      "text/plain": [
       "24.8"
      ]
     },
     "execution_count": 599,
     "metadata": {},
     "output_type": "execute_result"
    }
   ],
   "source": [
    "len(cuisine_list)*0.2 \n"
   ]
  },
  {
   "cell_type": "code",
   "execution_count": 600,
   "metadata": {
    "scrolled": true
   },
   "outputs": [
    {
     "data": {
      "text/plain": [
       "Index(['Vegetarian Friendly', 'European', 'Mediterranean', 'Italian',\n",
       "       'Vegan Options', 'Gluten Free Options', 'Bar', 'French', 'Asian',\n",
       "       'Pizza', 'Spanish', 'Pub', 'Cafe', 'Fast Food', 'British',\n",
       "       'International', 'Seafood', 'Japanese', 'Central European', 'American',\n",
       "       'Sushi', 'Chinese', 'Portuguese', 'Indian', 'Middle Eastern'],\n",
       "      dtype='object')"
      ]
     },
     "execution_count": 600,
     "metadata": {},
     "output_type": "execute_result"
    }
   ],
   "source": [
    "#отберем первые 25 кухонь из списка\n",
    "cuisine_list_top = cuisine_list.index[0:25]\n",
    "#создадим признаки из этого списка кухонь\n",
    "cuisine_list_top\n",
    "        "
   ]
  },
  {
   "cell_type": "code",
   "execution_count": 601,
   "metadata": {},
   "outputs": [],
   "source": [
    "#создадим столбцы с именами списка топ кухоньб если в ресторане есть кухня из этого списка, то в соответствующую ячейку поставим 1"
   ]
  },
  {
   "cell_type": "code",
   "execution_count": 602,
   "metadata": {},
   "outputs": [],
   "source": [
    "df = pd.concat([df, pd.DataFrame(columns=cuisine_list_top)], axis=0)\n",
    "df[cuisine_list_top] = df[cuisine_list_top].fillna(0)\n",
    "\n",
    "df_kaggle = pd.concat([df_kaggle, pd.DataFrame(columns=cuisine_list_top)], axis=0)\n",
    "df_kaggle[cuisine_list_top] = df_kaggle[cuisine_list_top].fillna(0)"
   ]
  },
  {
   "cell_type": "code",
   "execution_count": 603,
   "metadata": {},
   "outputs": [],
   "source": [
    "df['Cuisine Style List'] = df['Cuisine Style List'].fillna('m')\n",
    "df_kaggle['Cuisine Style List'] = df_kaggle['Cuisine Style List'].fillna('m')\n",
    "\n",
    "def func(x):\n",
    "    if isinstance(x['Cuisine Style List'], list):\n",
    "        for c in x['Cuisine Style List']:\n",
    "            if c in cuisine_list_top:\n",
    "                x[c] = 1.\n",
    "       \n",
    "    return x\n"
   ]
  },
  {
   "cell_type": "code",
   "execution_count": 604,
   "metadata": {},
   "outputs": [],
   "source": [
    "df = df.apply(lambda x: func(x), axis=1)\n",
    "df_kaggle = df_kaggle.apply(lambda x: func(x), axis=1)"
   ]
  },
  {
   "cell_type": "code",
   "execution_count": 605,
   "metadata": {},
   "outputs": [
    {
     "name": "stdout",
     "output_type": "stream",
     "text": [
      "<class 'pandas.core.frame.DataFrame'>\n",
      "Int64Index: 10000 entries, 0 to 9999\n",
      "Data columns (total 37 columns):\n",
      " #   Column               Non-Null Count  Dtype  \n",
      "---  ------               --------------  -----  \n",
      " 0   Restaurant_id        10000 non-null  object \n",
      " 1   City                 10000 non-null  object \n",
      " 2   Cuisine Style        7693 non-null   object \n",
      " 3   Ranking              10000 non-null  float64\n",
      " 4   Price Range          6525 non-null   object \n",
      " 5   Number of Reviews    9343 non-null   float64\n",
      " 6   Reviews              9998 non-null   object \n",
      " 7   URL_TA               10000 non-null  object \n",
      " 8   ID_TA                10000 non-null  object \n",
      " 9   touristic            9393 non-null   float64\n",
      " 10  Cuisine Style List   10000 non-null  object \n",
      " 11  Numbers of Cuisines  7693 non-null   float64\n",
      " 12  Vegetarian Friendly  10000 non-null  float64\n",
      " 13  European             10000 non-null  float64\n",
      " 14  Mediterranean        10000 non-null  float64\n",
      " 15  Italian              10000 non-null  float64\n",
      " 16  Vegan Options        10000 non-null  float64\n",
      " 17  Gluten Free Options  10000 non-null  float64\n",
      " 18  Bar                  10000 non-null  float64\n",
      " 19  French               10000 non-null  float64\n",
      " 20  Asian                10000 non-null  float64\n",
      " 21  Pizza                10000 non-null  float64\n",
      " 22  Spanish              10000 non-null  float64\n",
      " 23  Pub                  10000 non-null  float64\n",
      " 24  Cafe                 10000 non-null  float64\n",
      " 25  Fast Food            10000 non-null  float64\n",
      " 26  British              10000 non-null  float64\n",
      " 27  International        10000 non-null  float64\n",
      " 28  Seafood              10000 non-null  float64\n",
      " 29  Japanese             10000 non-null  float64\n",
      " 30  Central European     10000 non-null  float64\n",
      " 31  American             10000 non-null  float64\n",
      " 32  Sushi                10000 non-null  float64\n",
      " 33  Chinese              10000 non-null  float64\n",
      " 34  Portuguese           10000 non-null  float64\n",
      " 35  Indian               10000 non-null  float64\n",
      " 36  Middle Eastern       10000 non-null  float64\n",
      "dtypes: float64(29), object(8)\n",
      "memory usage: 2.9+ MB\n"
     ]
    }
   ],
   "source": [
    "df_kaggle.info()"
   ]
  },
  {
   "cell_type": "code",
   "execution_count": null,
   "metadata": {},
   "outputs": [],
   "source": []
  },
  {
   "cell_type": "code",
   "execution_count": 606,
   "metadata": {},
   "outputs": [
    {
     "name": "stdout",
     "output_type": "stream",
     "text": [
      "MAE reg: 0.22360565198680246\n"
     ]
    }
   ],
   "source": [
    "#проверим как влияют новые признаки на метрику\n",
    "cols_to_drop = ['Restaurant_id', 'City', 'Cuisine Style',\n",
    "       'Price Range', 'Reviews', 'URL_TA', 'ID_TA', 'Cuisine Style List']\n",
    "model_MAE(df.drop(columns=cols_to_drop).dropna(), random_state=300)"
   ]
  },
  {
   "cell_type": "code",
   "execution_count": 607,
   "metadata": {},
   "outputs": [
    {
     "data": {
      "text/plain": [
       "$$ - $$$    18412\n",
       "NaN         13886\n",
       "$            6279\n",
       "$$$$         1423\n",
       "Name: Price Range, dtype: int64"
      ]
     },
     "execution_count": 607,
     "metadata": {},
     "output_type": "execute_result"
    }
   ],
   "source": [
    "#посмотрим на переменную Price Range\n",
    "df['Price Range'].value_counts(dropna = False)\n"
   ]
  },
  {
   "cell_type": "code",
   "execution_count": 608,
   "metadata": {},
   "outputs": [],
   "source": [
    "df['Price Range'] = df['Price Range'].fillna(0.)\n",
    "df_kaggle['Price Range'] = df_kaggle['Price Range'].fillna(0.)\n",
    "\n",
    "range_list = {'$': 1, '$$ - $$$': 2, '$$$$': 3}"
   ]
  },
  {
   "cell_type": "code",
   "execution_count": 609,
   "metadata": {},
   "outputs": [
    {
     "data": {
      "text/plain": [
       "2.0    4629\n",
       "0.0    3475\n",
       "1.0    1537\n",
       "3.0     359\n",
       "Name: Price Range, dtype: int64"
      ]
     },
     "execution_count": 609,
     "metadata": {},
     "output_type": "execute_result"
    }
   ],
   "source": [
    "df['Price Range'] = df['Price Range'].replace(to_replace=range_list)\n",
    "df_kaggle['Price Range'] = df_kaggle['Price Range'].replace(to_replace=range_list)\n",
    "\n",
    "df_kaggle['Price Range'].value_counts(dropna = False)"
   ]
  },
  {
   "cell_type": "code",
   "execution_count": 610,
   "metadata": {},
   "outputs": [
    {
     "name": "stdout",
     "output_type": "stream",
     "text": [
      "<class 'pandas.core.frame.DataFrame'>\n",
      "Int64Index: 10000 entries, 0 to 9999\n",
      "Data columns (total 37 columns):\n",
      " #   Column               Non-Null Count  Dtype  \n",
      "---  ------               --------------  -----  \n",
      " 0   Restaurant_id        10000 non-null  object \n",
      " 1   City                 10000 non-null  object \n",
      " 2   Cuisine Style        7693 non-null   object \n",
      " 3   Ranking              10000 non-null  float64\n",
      " 4   Price Range          10000 non-null  float64\n",
      " 5   Number of Reviews    9343 non-null   float64\n",
      " 6   Reviews              9998 non-null   object \n",
      " 7   URL_TA               10000 non-null  object \n",
      " 8   ID_TA                10000 non-null  object \n",
      " 9   touristic            9393 non-null   float64\n",
      " 10  Cuisine Style List   10000 non-null  object \n",
      " 11  Numbers of Cuisines  7693 non-null   float64\n",
      " 12  Vegetarian Friendly  10000 non-null  float64\n",
      " 13  European             10000 non-null  float64\n",
      " 14  Mediterranean        10000 non-null  float64\n",
      " 15  Italian              10000 non-null  float64\n",
      " 16  Vegan Options        10000 non-null  float64\n",
      " 17  Gluten Free Options  10000 non-null  float64\n",
      " 18  Bar                  10000 non-null  float64\n",
      " 19  French               10000 non-null  float64\n",
      " 20  Asian                10000 non-null  float64\n",
      " 21  Pizza                10000 non-null  float64\n",
      " 22  Spanish              10000 non-null  float64\n",
      " 23  Pub                  10000 non-null  float64\n",
      " 24  Cafe                 10000 non-null  float64\n",
      " 25  Fast Food            10000 non-null  float64\n",
      " 26  British              10000 non-null  float64\n",
      " 27  International        10000 non-null  float64\n",
      " 28  Seafood              10000 non-null  float64\n",
      " 29  Japanese             10000 non-null  float64\n",
      " 30  Central European     10000 non-null  float64\n",
      " 31  American             10000 non-null  float64\n",
      " 32  Sushi                10000 non-null  float64\n",
      " 33  Chinese              10000 non-null  float64\n",
      " 34  Portuguese           10000 non-null  float64\n",
      " 35  Indian               10000 non-null  float64\n",
      " 36  Middle Eastern       10000 non-null  float64\n",
      "dtypes: float64(30), object(7)\n",
      "memory usage: 2.9+ MB\n"
     ]
    }
   ],
   "source": [
    "df_kaggle.info()"
   ]
  },
  {
   "cell_type": "code",
   "execution_count": 611,
   "metadata": {},
   "outputs": [
    {
     "name": "stdout",
     "output_type": "stream",
     "text": [
      "MAE reg: 0.22001075885812654\n"
     ]
    }
   ],
   "source": [
    "#проверим значение метрики\n",
    "cols_to_drop = ['Restaurant_id', 'City', 'Cuisine Style', 'Reviews', 'URL_TA', 'ID_TA', 'Cuisine Style List']\n",
    "model_MAE(df.drop(columns=cols_to_drop).dropna(), random_state=300)"
   ]
  },
  {
   "cell_type": "code",
   "execution_count": 612,
   "metadata": {},
   "outputs": [
    {
     "data": {
      "text/plain": [
       "\"[['Good food at your doorstep', 'A good hotel restaurant'], ['12/31/2017', '11/20/2017']]\""
      ]
     },
     "execution_count": 612,
     "metadata": {},
     "output_type": "execute_result"
    }
   ],
   "source": [
    "#поработаем с отзывами\n",
    "df['Reviews'][0]"
   ]
  },
  {
   "cell_type": "code",
   "execution_count": 613,
   "metadata": {},
   "outputs": [],
   "source": [
    "#видно что в этом поле два отзыва и 2 даты"
   ]
  },
  {
   "cell_type": "code",
   "execution_count": 614,
   "metadata": {},
   "outputs": [
    {
     "data": {
      "text/plain": [
       "str"
      ]
     },
     "execution_count": 614,
     "metadata": {},
     "output_type": "execute_result"
    }
   ],
   "source": [
    "type(df['Reviews'][0])"
   ]
  },
  {
   "cell_type": "code",
   "execution_count": 615,
   "metadata": {},
   "outputs": [],
   "source": [
    "#как и в случае с кухнями  - тут строка,попробуем вычленить даты"
   ]
  },
  {
   "cell_type": "code",
   "execution_count": 616,
   "metadata": {},
   "outputs": [],
   "source": [
    "df['Reviews_date1'] = df['Reviews'].str.findall(r\"'([\\d/]*)'\").str[0]\n",
    "df['Reviews_date2'] = df['Reviews'].str.findall(r\"'([\\d/]*)'\").str[1]\n",
    "\n",
    "df_kaggle['Reviews_date1'] = df_kaggle['Reviews'].str.findall(r\"'([\\d/]*)'\").str[0]\n",
    "df_kaggle['Reviews_date2'] = df_kaggle['Reviews'].str.findall(r\"'([\\d/]*)'\").str[1]"
   ]
  },
  {
   "cell_type": "code",
   "execution_count": 617,
   "metadata": {},
   "outputs": [],
   "source": [
    "#так просто в формат даты не перевести, вытащим данные нужного вида (длина даты как минимум 10 символов)"
   ]
  },
  {
   "cell_type": "code",
   "execution_count": 618,
   "metadata": {},
   "outputs": [],
   "source": [
    "#остальное заполним пропусками\n",
    "df.loc[(df.Reviews_date1.str.len() < 10) | (df.Reviews_date1.isna()), 'Reviews_date1'] = None\n",
    "df.loc[(df.Reviews_date2.str.len() < 10) | (df.Reviews_date2.isna()), 'Reviews_date2'] = None\n",
    "\n",
    "df_kaggle.loc[(df_kaggle.Reviews_date1.str.len() < 10) | (df_kaggle.Reviews_date1.isna()), 'Reviews_date1'] = None\n",
    "df_kaggle.loc[(df_kaggle.Reviews_date2.str.len() < 10) | (df_kaggle.Reviews_date2.isna()), 'Reviews_date2'] = None"
   ]
  },
  {
   "cell_type": "code",
   "execution_count": 619,
   "metadata": {},
   "outputs": [],
   "source": [
    "#переведем в формат даты\n",
    "df['Reviews_date1'] = pd.to_datetime(df['Reviews_date1'])\n",
    "df['Reviews_date2'] = pd.to_datetime(df['Reviews_date2'])\n",
    "\n",
    "df_kaggle['Reviews_date1'] = pd.to_datetime(df_kaggle['Reviews_date1'])\n",
    "df_kaggle['Reviews_date2'] = pd.to_datetime(df_kaggle['Reviews_date2'])\n",
    "\n"
   ]
  },
  {
   "cell_type": "code",
   "execution_count": 620,
   "metadata": {},
   "outputs": [],
   "source": [
    "#попробуем высчитать разницу по времени между отзывами\n",
    "df['Reviews_date_diff'] = abs(df['Reviews_date1'] - df['Reviews_date2']).dt.days\n",
    "df_kaggle['Reviews_date_diff'] = abs(df_kaggle['Reviews_date1'] - df_kaggle['Reviews_date2']).dt.days\n",
    "\n",
    "\n",
    "#добавим признак, который показывает насколько давно был последний отзыв\n",
    "df['last_review_date1'] = abs(df['Reviews_date1'] - df['Reviews_date1'].dropna().max()).dt.days\n",
    "df['last_review_date2'] = abs(df['Reviews_date2'] - df['Reviews_date2'].dropna().max()).dt.days\n",
    "\n",
    "df_kaggle['last_review_date1'] = abs(df_kaggle['Reviews_date1'] - df_kaggle['Reviews_date1'].dropna().max()).dt.days\n",
    "df_kaggle['last_review_date2'] = abs(df_kaggle['Reviews_date2'] - df_kaggle['Reviews_date2'].dropna().max()).dt.days\n"
   ]
  },
  {
   "cell_type": "code",
   "execution_count": 632,
   "metadata": {},
   "outputs": [],
   "source": [
    "#заполним пропуски средним\n",
    "df['Number of Reviews'] = df['Number of Reviews'].fillna(df['Number of Reviews'].mean())\n",
    "df['touristic'] = df['touristic'].fillna(df['touristic'].mean())\n",
    "df['Reviews_date_diff'] = df['Reviews_date_diff'].fillna(df['Reviews_date_diff'].mean())\n",
    "df['last_review_date1'] = df['last_review_date1'].fillna(df['last_review_date1'].mean())\n",
    "df['last_review_date2'] = df['last_review_date2'].fillna(df['last_review_date2'].mean())\n",
    "df['Numbers of Cuisines'] = df['Numbers of Cuisines'].fillna(df['Numbers of Cuisines'].mean())\n",
    "\n",
    "\n"
   ]
  },
  {
   "cell_type": "code",
   "execution_count": 633,
   "metadata": {},
   "outputs": [],
   "source": [
    "df_kaggle['Number of Reviews'] = df_kaggle['Number of Reviews'].fillna(df_kaggle['Number of Reviews'].mean())\n",
    "df_kaggle['touristic'] = df_kaggle['touristic'].fillna(df_kaggle['touristic'].mean())\n",
    "df_kaggle['Reviews_date_diff'] = df_kaggle['Reviews_date_diff'].fillna(df_kaggle['Reviews_date_diff'].mean())\n",
    "df_kaggle['last_review_date1'] = df_kaggle['last_review_date1'].fillna(df_kaggle['last_review_date1'].mean())\n",
    "df_kaggle['last_review_date2'] = df_kaggle['last_review_date2'].fillna(df_kaggle['last_review_date2'].mean())\n",
    "df_kaggle['Numbers of Cuisines'] = df_kaggle['Numbers of Cuisines'].fillna(df_kaggle['Numbers of Cuisines'].mean())"
   ]
  },
  {
   "cell_type": "code",
   "execution_count": 634,
   "metadata": {},
   "outputs": [
    {
     "ename": "KeyError",
     "evalue": "\"['City' 'Cuisine Style' 'Reviews' 'URL_TA' 'ID_TA' 'Cuisine Style List'\\n 'Reviews_date1' 'Reviews_date2'] not found in axis\"",
     "output_type": "error",
     "traceback": [
      "\u001b[1;31m---------------------------------------------------------------------------\u001b[0m",
      "\u001b[1;31mKeyError\u001b[0m                                  Traceback (most recent call last)",
      "\u001b[1;32m<ipython-input-634-992b35305da2>\u001b[0m in \u001b[0;36m<module>\u001b[1;34m\u001b[0m\n\u001b[0;32m      1\u001b[0m \u001b[1;31m#проверим значение метрики\u001b[0m\u001b[1;33m\u001b[0m\u001b[1;33m\u001b[0m\u001b[1;33m\u001b[0m\u001b[0m\n\u001b[0;32m      2\u001b[0m \u001b[0mcols_to_drop\u001b[0m \u001b[1;33m=\u001b[0m \u001b[1;33m[\u001b[0m\u001b[1;34m'Restaurant_id'\u001b[0m\u001b[1;33m,\u001b[0m \u001b[1;34m'City'\u001b[0m\u001b[1;33m,\u001b[0m \u001b[1;34m'Cuisine Style'\u001b[0m\u001b[1;33m,\u001b[0m \u001b[1;34m'Reviews'\u001b[0m\u001b[1;33m,\u001b[0m \u001b[1;34m'URL_TA'\u001b[0m\u001b[1;33m,\u001b[0m \u001b[1;34m'ID_TA'\u001b[0m\u001b[1;33m,\u001b[0m \u001b[1;34m'Cuisine Style List'\u001b[0m\u001b[1;33m,\u001b[0m \u001b[1;34m'Reviews_date1'\u001b[0m\u001b[1;33m,\u001b[0m \u001b[1;34m'Reviews_date2'\u001b[0m\u001b[1;33m]\u001b[0m\u001b[1;33m\u001b[0m\u001b[1;33m\u001b[0m\u001b[0m\n\u001b[1;32m----> 3\u001b[1;33m \u001b[0mmodel_MAE\u001b[0m\u001b[1;33m(\u001b[0m\u001b[0mdf\u001b[0m\u001b[1;33m.\u001b[0m\u001b[0mdrop\u001b[0m\u001b[1;33m(\u001b[0m\u001b[0mcolumns\u001b[0m\u001b[1;33m=\u001b[0m\u001b[0mcols_to_drop\u001b[0m\u001b[1;33m)\u001b[0m\u001b[1;33m.\u001b[0m\u001b[0mdropna\u001b[0m\u001b[1;33m(\u001b[0m\u001b[1;33m)\u001b[0m\u001b[1;33m,\u001b[0m \u001b[0mrandom_state\u001b[0m\u001b[1;33m=\u001b[0m\u001b[1;36m300\u001b[0m\u001b[1;33m)\u001b[0m\u001b[1;33m\u001b[0m\u001b[1;33m\u001b[0m\u001b[0m\n\u001b[0m",
      "\u001b[1;32m~\\anaconda3\\lib\\site-packages\\pandas\\core\\frame.py\u001b[0m in \u001b[0;36mdrop\u001b[1;34m(self, labels, axis, index, columns, level, inplace, errors)\u001b[0m\n\u001b[0;32m   3995\u001b[0m             \u001b[0mlevel\u001b[0m\u001b[1;33m=\u001b[0m\u001b[0mlevel\u001b[0m\u001b[1;33m,\u001b[0m\u001b[1;33m\u001b[0m\u001b[1;33m\u001b[0m\u001b[0m\n\u001b[0;32m   3996\u001b[0m             \u001b[0minplace\u001b[0m\u001b[1;33m=\u001b[0m\u001b[0minplace\u001b[0m\u001b[1;33m,\u001b[0m\u001b[1;33m\u001b[0m\u001b[1;33m\u001b[0m\u001b[0m\n\u001b[1;32m-> 3997\u001b[1;33m             \u001b[0merrors\u001b[0m\u001b[1;33m=\u001b[0m\u001b[0merrors\u001b[0m\u001b[1;33m,\u001b[0m\u001b[1;33m\u001b[0m\u001b[1;33m\u001b[0m\u001b[0m\n\u001b[0m\u001b[0;32m   3998\u001b[0m         )\n\u001b[0;32m   3999\u001b[0m \u001b[1;33m\u001b[0m\u001b[0m\n",
      "\u001b[1;32m~\\anaconda3\\lib\\site-packages\\pandas\\core\\generic.py\u001b[0m in \u001b[0;36mdrop\u001b[1;34m(self, labels, axis, index, columns, level, inplace, errors)\u001b[0m\n\u001b[0;32m   3934\u001b[0m         \u001b[1;32mfor\u001b[0m \u001b[0maxis\u001b[0m\u001b[1;33m,\u001b[0m \u001b[0mlabels\u001b[0m \u001b[1;32min\u001b[0m \u001b[0maxes\u001b[0m\u001b[1;33m.\u001b[0m\u001b[0mitems\u001b[0m\u001b[1;33m(\u001b[0m\u001b[1;33m)\u001b[0m\u001b[1;33m:\u001b[0m\u001b[1;33m\u001b[0m\u001b[1;33m\u001b[0m\u001b[0m\n\u001b[0;32m   3935\u001b[0m             \u001b[1;32mif\u001b[0m \u001b[0mlabels\u001b[0m \u001b[1;32mis\u001b[0m \u001b[1;32mnot\u001b[0m \u001b[1;32mNone\u001b[0m\u001b[1;33m:\u001b[0m\u001b[1;33m\u001b[0m\u001b[1;33m\u001b[0m\u001b[0m\n\u001b[1;32m-> 3936\u001b[1;33m                 \u001b[0mobj\u001b[0m \u001b[1;33m=\u001b[0m \u001b[0mobj\u001b[0m\u001b[1;33m.\u001b[0m\u001b[0m_drop_axis\u001b[0m\u001b[1;33m(\u001b[0m\u001b[0mlabels\u001b[0m\u001b[1;33m,\u001b[0m \u001b[0maxis\u001b[0m\u001b[1;33m,\u001b[0m \u001b[0mlevel\u001b[0m\u001b[1;33m=\u001b[0m\u001b[0mlevel\u001b[0m\u001b[1;33m,\u001b[0m \u001b[0merrors\u001b[0m\u001b[1;33m=\u001b[0m\u001b[0merrors\u001b[0m\u001b[1;33m)\u001b[0m\u001b[1;33m\u001b[0m\u001b[1;33m\u001b[0m\u001b[0m\n\u001b[0m\u001b[0;32m   3937\u001b[0m \u001b[1;33m\u001b[0m\u001b[0m\n\u001b[0;32m   3938\u001b[0m         \u001b[1;32mif\u001b[0m \u001b[0minplace\u001b[0m\u001b[1;33m:\u001b[0m\u001b[1;33m\u001b[0m\u001b[1;33m\u001b[0m\u001b[0m\n",
      "\u001b[1;32m~\\anaconda3\\lib\\site-packages\\pandas\\core\\generic.py\u001b[0m in \u001b[0;36m_drop_axis\u001b[1;34m(self, labels, axis, level, errors)\u001b[0m\n\u001b[0;32m   3968\u001b[0m                 \u001b[0mnew_axis\u001b[0m \u001b[1;33m=\u001b[0m \u001b[0maxis\u001b[0m\u001b[1;33m.\u001b[0m\u001b[0mdrop\u001b[0m\u001b[1;33m(\u001b[0m\u001b[0mlabels\u001b[0m\u001b[1;33m,\u001b[0m \u001b[0mlevel\u001b[0m\u001b[1;33m=\u001b[0m\u001b[0mlevel\u001b[0m\u001b[1;33m,\u001b[0m \u001b[0merrors\u001b[0m\u001b[1;33m=\u001b[0m\u001b[0merrors\u001b[0m\u001b[1;33m)\u001b[0m\u001b[1;33m\u001b[0m\u001b[1;33m\u001b[0m\u001b[0m\n\u001b[0;32m   3969\u001b[0m             \u001b[1;32melse\u001b[0m\u001b[1;33m:\u001b[0m\u001b[1;33m\u001b[0m\u001b[1;33m\u001b[0m\u001b[0m\n\u001b[1;32m-> 3970\u001b[1;33m                 \u001b[0mnew_axis\u001b[0m \u001b[1;33m=\u001b[0m \u001b[0maxis\u001b[0m\u001b[1;33m.\u001b[0m\u001b[0mdrop\u001b[0m\u001b[1;33m(\u001b[0m\u001b[0mlabels\u001b[0m\u001b[1;33m,\u001b[0m \u001b[0merrors\u001b[0m\u001b[1;33m=\u001b[0m\u001b[0merrors\u001b[0m\u001b[1;33m)\u001b[0m\u001b[1;33m\u001b[0m\u001b[1;33m\u001b[0m\u001b[0m\n\u001b[0m\u001b[0;32m   3971\u001b[0m             \u001b[0mresult\u001b[0m \u001b[1;33m=\u001b[0m \u001b[0mself\u001b[0m\u001b[1;33m.\u001b[0m\u001b[0mreindex\u001b[0m\u001b[1;33m(\u001b[0m\u001b[1;33m**\u001b[0m\u001b[1;33m{\u001b[0m\u001b[0maxis_name\u001b[0m\u001b[1;33m:\u001b[0m \u001b[0mnew_axis\u001b[0m\u001b[1;33m}\u001b[0m\u001b[1;33m)\u001b[0m\u001b[1;33m\u001b[0m\u001b[1;33m\u001b[0m\u001b[0m\n\u001b[0;32m   3972\u001b[0m \u001b[1;33m\u001b[0m\u001b[0m\n",
      "\u001b[1;32m~\\anaconda3\\lib\\site-packages\\pandas\\core\\indexes\\base.py\u001b[0m in \u001b[0;36mdrop\u001b[1;34m(self, labels, errors)\u001b[0m\n\u001b[0;32m   5016\u001b[0m         \u001b[1;32mif\u001b[0m \u001b[0mmask\u001b[0m\u001b[1;33m.\u001b[0m\u001b[0many\u001b[0m\u001b[1;33m(\u001b[0m\u001b[1;33m)\u001b[0m\u001b[1;33m:\u001b[0m\u001b[1;33m\u001b[0m\u001b[1;33m\u001b[0m\u001b[0m\n\u001b[0;32m   5017\u001b[0m             \u001b[1;32mif\u001b[0m \u001b[0merrors\u001b[0m \u001b[1;33m!=\u001b[0m \u001b[1;34m\"ignore\"\u001b[0m\u001b[1;33m:\u001b[0m\u001b[1;33m\u001b[0m\u001b[1;33m\u001b[0m\u001b[0m\n\u001b[1;32m-> 5018\u001b[1;33m                 \u001b[1;32mraise\u001b[0m \u001b[0mKeyError\u001b[0m\u001b[1;33m(\u001b[0m\u001b[1;34mf\"{labels[mask]} not found in axis\"\u001b[0m\u001b[1;33m)\u001b[0m\u001b[1;33m\u001b[0m\u001b[1;33m\u001b[0m\u001b[0m\n\u001b[0m\u001b[0;32m   5019\u001b[0m             \u001b[0mindexer\u001b[0m \u001b[1;33m=\u001b[0m \u001b[0mindexer\u001b[0m\u001b[1;33m[\u001b[0m\u001b[1;33m~\u001b[0m\u001b[0mmask\u001b[0m\u001b[1;33m]\u001b[0m\u001b[1;33m\u001b[0m\u001b[1;33m\u001b[0m\u001b[0m\n\u001b[0;32m   5020\u001b[0m         \u001b[1;32mreturn\u001b[0m \u001b[0mself\u001b[0m\u001b[1;33m.\u001b[0m\u001b[0mdelete\u001b[0m\u001b[1;33m(\u001b[0m\u001b[0mindexer\u001b[0m\u001b[1;33m)\u001b[0m\u001b[1;33m\u001b[0m\u001b[1;33m\u001b[0m\u001b[0m\n",
      "\u001b[1;31mKeyError\u001b[0m: \"['City' 'Cuisine Style' 'Reviews' 'URL_TA' 'ID_TA' 'Cuisine Style List'\\n 'Reviews_date1' 'Reviews_date2'] not found in axis\""
     ]
    }
   ],
   "source": [
    "#проверим значение метрики\n",
    "cols_to_drop = ['Restaurant_id', 'City', 'Cuisine Style', 'Reviews', 'URL_TA', 'ID_TA', 'Cuisine Style List', 'Reviews_date1', 'Reviews_date2']\n",
    "model_MAE(df.drop(columns=cols_to_drop).dropna(), random_state=300)\n"
   ]
  },
  {
   "cell_type": "code",
   "execution_count": 504,
   "metadata": {},
   "outputs": [
    {
     "name": "stdout",
     "output_type": "stream",
     "text": [
      "<class 'pandas.core.frame.DataFrame'>\n",
      "Int64Index: 10000 entries, 0 to 9999\n",
      "Data columns (total 42 columns):\n",
      " #   Column               Non-Null Count  Dtype         \n",
      "---  ------               --------------  -----         \n",
      " 0   Restaurant_id        10000 non-null  object        \n",
      " 1   City                 10000 non-null  object        \n",
      " 2   Cuisine Style        7693 non-null   object        \n",
      " 3   Ranking              10000 non-null  float64       \n",
      " 4   Price Range          10000 non-null  float64       \n",
      " 5   Number of Reviews    10000 non-null  float64       \n",
      " 6   Reviews              9998 non-null   object        \n",
      " 7   URL_TA               10000 non-null  object        \n",
      " 8   ID_TA                10000 non-null  object        \n",
      " 9   touristic            10000 non-null  float64       \n",
      " 10  Cuisine Style List   10000 non-null  object        \n",
      " 11  Numbers of Cuisines  10000 non-null  float64       \n",
      " 12  Vegetarian Friendly  10000 non-null  float64       \n",
      " 13  European             10000 non-null  float64       \n",
      " 14  Mediterranean        10000 non-null  float64       \n",
      " 15  Italian              10000 non-null  float64       \n",
      " 16  Vegan Options        10000 non-null  float64       \n",
      " 17  Gluten Free Options  10000 non-null  float64       \n",
      " 18  Bar                  10000 non-null  float64       \n",
      " 19  French               10000 non-null  float64       \n",
      " 20  Asian                10000 non-null  float64       \n",
      " 21  Pizza                10000 non-null  float64       \n",
      " 22  Spanish              10000 non-null  float64       \n",
      " 23  Pub                  10000 non-null  float64       \n",
      " 24  Cafe                 10000 non-null  float64       \n",
      " 25  Fast Food            10000 non-null  float64       \n",
      " 26  British              10000 non-null  float64       \n",
      " 27  International        10000 non-null  float64       \n",
      " 28  Seafood              10000 non-null  float64       \n",
      " 29  Japanese             10000 non-null  float64       \n",
      " 30  Central European     10000 non-null  float64       \n",
      " 31  American             10000 non-null  float64       \n",
      " 32  Sushi                10000 non-null  float64       \n",
      " 33  Chinese              10000 non-null  float64       \n",
      " 34  Portuguese           10000 non-null  float64       \n",
      " 35  Indian               10000 non-null  float64       \n",
      " 36  Middle Eastern       10000 non-null  float64       \n",
      " 37  Reviews_date1        8355 non-null   datetime64[ns]\n",
      " 38  Reviews_date2        7233 non-null   datetime64[ns]\n",
      " 39  Reviews_date_diff    10000 non-null  float64       \n",
      " 40  last_review_date1    10000 non-null  float64       \n",
      " 41  last_review_date2    10000 non-null  float64       \n",
      "dtypes: datetime64[ns](2), float64(33), object(7)\n",
      "memory usage: 3.3+ MB\n"
     ]
    }
   ],
   "source": [
    "#заполним пропуски и удалим ненужные колонки\n",
    "df_kaggle.info()"
   ]
  },
  {
   "cell_type": "code",
   "execution_count": 629,
   "metadata": {},
   "outputs": [
    {
     "ename": "KeyError",
     "evalue": "\"['City' 'Cuisine Style' 'Reviews' 'Reviews' 'URL_TA' 'ID_TA'\\n 'Cuisine Style List' 'Reviews_date1' 'Reviews_date2'] not found in axis\"",
     "output_type": "error",
     "traceback": [
      "\u001b[1;31m---------------------------------------------------------------------------\u001b[0m",
      "\u001b[1;31mKeyError\u001b[0m                                  Traceback (most recent call last)",
      "\u001b[1;32m<ipython-input-629-960963735016>\u001b[0m in \u001b[0;36m<module>\u001b[1;34m\u001b[0m\n\u001b[1;32m----> 1\u001b[1;33m \u001b[0mdf\u001b[0m\u001b[1;33m.\u001b[0m\u001b[0mdrop\u001b[0m\u001b[1;33m(\u001b[0m\u001b[0mcolumns\u001b[0m\u001b[1;33m=\u001b[0m\u001b[1;33m[\u001b[0m\u001b[1;34m'City'\u001b[0m\u001b[1;33m,\u001b[0m \u001b[1;34m'Cuisine Style'\u001b[0m\u001b[1;33m,\u001b[0m \u001b[1;34m'Reviews'\u001b[0m\u001b[1;33m,\u001b[0m \u001b[1;34m'Reviews'\u001b[0m\u001b[1;33m,\u001b[0m \u001b[1;34m'URL_TA'\u001b[0m\u001b[1;33m,\u001b[0m \u001b[1;34m'ID_TA'\u001b[0m\u001b[1;33m,\u001b[0m \u001b[1;34m'Cuisine Style List'\u001b[0m\u001b[1;33m,\u001b[0m \u001b[1;34m'Reviews_date1'\u001b[0m\u001b[1;33m,\u001b[0m \u001b[1;34m'Reviews_date2'\u001b[0m\u001b[1;33m]\u001b[0m\u001b[1;33m,\u001b[0m \u001b[0minplace\u001b[0m\u001b[1;33m=\u001b[0m\u001b[1;32mTrue\u001b[0m\u001b[1;33m)\u001b[0m\u001b[1;33m\u001b[0m\u001b[1;33m\u001b[0m\u001b[0m\n\u001b[0m\u001b[0;32m      2\u001b[0m \u001b[0mdf_kaggle\u001b[0m\u001b[1;33m.\u001b[0m\u001b[0mdrop\u001b[0m\u001b[1;33m(\u001b[0m\u001b[0mcolumns\u001b[0m\u001b[1;33m=\u001b[0m\u001b[1;33m[\u001b[0m\u001b[1;34m'City'\u001b[0m\u001b[1;33m,\u001b[0m \u001b[1;34m'Cuisine Style'\u001b[0m\u001b[1;33m,\u001b[0m \u001b[1;34m'Reviews'\u001b[0m\u001b[1;33m,\u001b[0m \u001b[1;34m'Reviews'\u001b[0m\u001b[1;33m,\u001b[0m \u001b[1;34m'URL_TA'\u001b[0m\u001b[1;33m,\u001b[0m \u001b[1;34m'ID_TA'\u001b[0m\u001b[1;33m,\u001b[0m \u001b[1;34m'Cuisine Style List'\u001b[0m\u001b[1;33m,\u001b[0m \u001b[1;34m'Reviews_date1'\u001b[0m\u001b[1;33m,\u001b[0m \u001b[1;34m'Reviews_date2'\u001b[0m\u001b[1;33m]\u001b[0m\u001b[1;33m,\u001b[0m \u001b[0minplace\u001b[0m\u001b[1;33m=\u001b[0m\u001b[1;32mTrue\u001b[0m\u001b[1;33m)\u001b[0m\u001b[1;33m\u001b[0m\u001b[1;33m\u001b[0m\u001b[0m\n",
      "\u001b[1;32m~\\anaconda3\\lib\\site-packages\\pandas\\core\\frame.py\u001b[0m in \u001b[0;36mdrop\u001b[1;34m(self, labels, axis, index, columns, level, inplace, errors)\u001b[0m\n\u001b[0;32m   3995\u001b[0m             \u001b[0mlevel\u001b[0m\u001b[1;33m=\u001b[0m\u001b[0mlevel\u001b[0m\u001b[1;33m,\u001b[0m\u001b[1;33m\u001b[0m\u001b[1;33m\u001b[0m\u001b[0m\n\u001b[0;32m   3996\u001b[0m             \u001b[0minplace\u001b[0m\u001b[1;33m=\u001b[0m\u001b[0minplace\u001b[0m\u001b[1;33m,\u001b[0m\u001b[1;33m\u001b[0m\u001b[1;33m\u001b[0m\u001b[0m\n\u001b[1;32m-> 3997\u001b[1;33m             \u001b[0merrors\u001b[0m\u001b[1;33m=\u001b[0m\u001b[0merrors\u001b[0m\u001b[1;33m,\u001b[0m\u001b[1;33m\u001b[0m\u001b[1;33m\u001b[0m\u001b[0m\n\u001b[0m\u001b[0;32m   3998\u001b[0m         )\n\u001b[0;32m   3999\u001b[0m \u001b[1;33m\u001b[0m\u001b[0m\n",
      "\u001b[1;32m~\\anaconda3\\lib\\site-packages\\pandas\\core\\generic.py\u001b[0m in \u001b[0;36mdrop\u001b[1;34m(self, labels, axis, index, columns, level, inplace, errors)\u001b[0m\n\u001b[0;32m   3934\u001b[0m         \u001b[1;32mfor\u001b[0m \u001b[0maxis\u001b[0m\u001b[1;33m,\u001b[0m \u001b[0mlabels\u001b[0m \u001b[1;32min\u001b[0m \u001b[0maxes\u001b[0m\u001b[1;33m.\u001b[0m\u001b[0mitems\u001b[0m\u001b[1;33m(\u001b[0m\u001b[1;33m)\u001b[0m\u001b[1;33m:\u001b[0m\u001b[1;33m\u001b[0m\u001b[1;33m\u001b[0m\u001b[0m\n\u001b[0;32m   3935\u001b[0m             \u001b[1;32mif\u001b[0m \u001b[0mlabels\u001b[0m \u001b[1;32mis\u001b[0m \u001b[1;32mnot\u001b[0m \u001b[1;32mNone\u001b[0m\u001b[1;33m:\u001b[0m\u001b[1;33m\u001b[0m\u001b[1;33m\u001b[0m\u001b[0m\n\u001b[1;32m-> 3936\u001b[1;33m                 \u001b[0mobj\u001b[0m \u001b[1;33m=\u001b[0m \u001b[0mobj\u001b[0m\u001b[1;33m.\u001b[0m\u001b[0m_drop_axis\u001b[0m\u001b[1;33m(\u001b[0m\u001b[0mlabels\u001b[0m\u001b[1;33m,\u001b[0m \u001b[0maxis\u001b[0m\u001b[1;33m,\u001b[0m \u001b[0mlevel\u001b[0m\u001b[1;33m=\u001b[0m\u001b[0mlevel\u001b[0m\u001b[1;33m,\u001b[0m \u001b[0merrors\u001b[0m\u001b[1;33m=\u001b[0m\u001b[0merrors\u001b[0m\u001b[1;33m)\u001b[0m\u001b[1;33m\u001b[0m\u001b[1;33m\u001b[0m\u001b[0m\n\u001b[0m\u001b[0;32m   3937\u001b[0m \u001b[1;33m\u001b[0m\u001b[0m\n\u001b[0;32m   3938\u001b[0m         \u001b[1;32mif\u001b[0m \u001b[0minplace\u001b[0m\u001b[1;33m:\u001b[0m\u001b[1;33m\u001b[0m\u001b[1;33m\u001b[0m\u001b[0m\n",
      "\u001b[1;32m~\\anaconda3\\lib\\site-packages\\pandas\\core\\generic.py\u001b[0m in \u001b[0;36m_drop_axis\u001b[1;34m(self, labels, axis, level, errors)\u001b[0m\n\u001b[0;32m   3968\u001b[0m                 \u001b[0mnew_axis\u001b[0m \u001b[1;33m=\u001b[0m \u001b[0maxis\u001b[0m\u001b[1;33m.\u001b[0m\u001b[0mdrop\u001b[0m\u001b[1;33m(\u001b[0m\u001b[0mlabels\u001b[0m\u001b[1;33m,\u001b[0m \u001b[0mlevel\u001b[0m\u001b[1;33m=\u001b[0m\u001b[0mlevel\u001b[0m\u001b[1;33m,\u001b[0m \u001b[0merrors\u001b[0m\u001b[1;33m=\u001b[0m\u001b[0merrors\u001b[0m\u001b[1;33m)\u001b[0m\u001b[1;33m\u001b[0m\u001b[1;33m\u001b[0m\u001b[0m\n\u001b[0;32m   3969\u001b[0m             \u001b[1;32melse\u001b[0m\u001b[1;33m:\u001b[0m\u001b[1;33m\u001b[0m\u001b[1;33m\u001b[0m\u001b[0m\n\u001b[1;32m-> 3970\u001b[1;33m                 \u001b[0mnew_axis\u001b[0m \u001b[1;33m=\u001b[0m \u001b[0maxis\u001b[0m\u001b[1;33m.\u001b[0m\u001b[0mdrop\u001b[0m\u001b[1;33m(\u001b[0m\u001b[0mlabels\u001b[0m\u001b[1;33m,\u001b[0m \u001b[0merrors\u001b[0m\u001b[1;33m=\u001b[0m\u001b[0merrors\u001b[0m\u001b[1;33m)\u001b[0m\u001b[1;33m\u001b[0m\u001b[1;33m\u001b[0m\u001b[0m\n\u001b[0m\u001b[0;32m   3971\u001b[0m             \u001b[0mresult\u001b[0m \u001b[1;33m=\u001b[0m \u001b[0mself\u001b[0m\u001b[1;33m.\u001b[0m\u001b[0mreindex\u001b[0m\u001b[1;33m(\u001b[0m\u001b[1;33m**\u001b[0m\u001b[1;33m{\u001b[0m\u001b[0maxis_name\u001b[0m\u001b[1;33m:\u001b[0m \u001b[0mnew_axis\u001b[0m\u001b[1;33m}\u001b[0m\u001b[1;33m)\u001b[0m\u001b[1;33m\u001b[0m\u001b[1;33m\u001b[0m\u001b[0m\n\u001b[0;32m   3972\u001b[0m \u001b[1;33m\u001b[0m\u001b[0m\n",
      "\u001b[1;32m~\\anaconda3\\lib\\site-packages\\pandas\\core\\indexes\\base.py\u001b[0m in \u001b[0;36mdrop\u001b[1;34m(self, labels, errors)\u001b[0m\n\u001b[0;32m   5016\u001b[0m         \u001b[1;32mif\u001b[0m \u001b[0mmask\u001b[0m\u001b[1;33m.\u001b[0m\u001b[0many\u001b[0m\u001b[1;33m(\u001b[0m\u001b[1;33m)\u001b[0m\u001b[1;33m:\u001b[0m\u001b[1;33m\u001b[0m\u001b[1;33m\u001b[0m\u001b[0m\n\u001b[0;32m   5017\u001b[0m             \u001b[1;32mif\u001b[0m \u001b[0merrors\u001b[0m \u001b[1;33m!=\u001b[0m \u001b[1;34m\"ignore\"\u001b[0m\u001b[1;33m:\u001b[0m\u001b[1;33m\u001b[0m\u001b[1;33m\u001b[0m\u001b[0m\n\u001b[1;32m-> 5018\u001b[1;33m                 \u001b[1;32mraise\u001b[0m \u001b[0mKeyError\u001b[0m\u001b[1;33m(\u001b[0m\u001b[1;34mf\"{labels[mask]} not found in axis\"\u001b[0m\u001b[1;33m)\u001b[0m\u001b[1;33m\u001b[0m\u001b[1;33m\u001b[0m\u001b[0m\n\u001b[0m\u001b[0;32m   5019\u001b[0m             \u001b[0mindexer\u001b[0m \u001b[1;33m=\u001b[0m \u001b[0mindexer\u001b[0m\u001b[1;33m[\u001b[0m\u001b[1;33m~\u001b[0m\u001b[0mmask\u001b[0m\u001b[1;33m]\u001b[0m\u001b[1;33m\u001b[0m\u001b[1;33m\u001b[0m\u001b[0m\n\u001b[0;32m   5020\u001b[0m         \u001b[1;32mreturn\u001b[0m \u001b[0mself\u001b[0m\u001b[1;33m.\u001b[0m\u001b[0mdelete\u001b[0m\u001b[1;33m(\u001b[0m\u001b[0mindexer\u001b[0m\u001b[1;33m)\u001b[0m\u001b[1;33m\u001b[0m\u001b[1;33m\u001b[0m\u001b[0m\n",
      "\u001b[1;31mKeyError\u001b[0m: \"['City' 'Cuisine Style' 'Reviews' 'Reviews' 'URL_TA' 'ID_TA'\\n 'Cuisine Style List' 'Reviews_date1' 'Reviews_date2'] not found in axis\""
     ]
    }
   ],
   "source": [
    "df.drop(columns=['City', 'Cuisine Style', 'Reviews', 'Reviews', 'URL_TA', 'ID_TA', 'Cuisine Style List', 'Reviews_date1', 'Reviews_date2'], inplace=True)\n",
    "df_kaggle.drop(columns=['City', 'Cuisine Style', 'Reviews', 'Reviews', 'URL_TA', 'ID_TA', 'Cuisine Style List', 'Reviews_date1', 'Reviews_date2'], inplace=True)\n"
   ]
  },
  {
   "cell_type": "code",
   "execution_count": null,
   "metadata": {},
   "outputs": [],
   "source": []
  },
  {
   "cell_type": "code",
   "execution_count": 635,
   "metadata": {},
   "outputs": [
    {
     "name": "stdout",
     "output_type": "stream",
     "text": [
      "<class 'pandas.core.frame.DataFrame'>\n",
      "Int64Index: 10000 entries, 0 to 9999\n",
      "Data columns (total 34 columns):\n",
      " #   Column               Non-Null Count  Dtype  \n",
      "---  ------               --------------  -----  \n",
      " 0   Restaurant_id        10000 non-null  object \n",
      " 1   Ranking              10000 non-null  float64\n",
      " 2   Price Range          10000 non-null  float64\n",
      " 3   Number of Reviews    10000 non-null  float64\n",
      " 4   touristic            10000 non-null  float64\n",
      " 5   Numbers of Cuisines  10000 non-null  float64\n",
      " 6   Vegetarian Friendly  10000 non-null  float64\n",
      " 7   European             10000 non-null  float64\n",
      " 8   Mediterranean        10000 non-null  float64\n",
      " 9   Italian              10000 non-null  float64\n",
      " 10  Vegan Options        10000 non-null  float64\n",
      " 11  Gluten Free Options  10000 non-null  float64\n",
      " 12  Bar                  10000 non-null  float64\n",
      " 13  French               10000 non-null  float64\n",
      " 14  Asian                10000 non-null  float64\n",
      " 15  Pizza                10000 non-null  float64\n",
      " 16  Spanish              10000 non-null  float64\n",
      " 17  Pub                  10000 non-null  float64\n",
      " 18  Cafe                 10000 non-null  float64\n",
      " 19  Fast Food            10000 non-null  float64\n",
      " 20  British              10000 non-null  float64\n",
      " 21  International        10000 non-null  float64\n",
      " 22  Seafood              10000 non-null  float64\n",
      " 23  Japanese             10000 non-null  float64\n",
      " 24  Central European     10000 non-null  float64\n",
      " 25  American             10000 non-null  float64\n",
      " 26  Sushi                10000 non-null  float64\n",
      " 27  Chinese              10000 non-null  float64\n",
      " 28  Portuguese           10000 non-null  float64\n",
      " 29  Indian               10000 non-null  float64\n",
      " 30  Middle Eastern       10000 non-null  float64\n",
      " 31  Reviews_date_diff    10000 non-null  float64\n",
      " 32  last_review_date1    10000 non-null  float64\n",
      " 33  last_review_date2    10000 non-null  float64\n",
      "dtypes: float64(33), object(1)\n",
      "memory usage: 3.0+ MB\n"
     ]
    }
   ],
   "source": [
    "df_kaggle.info()"
   ]
  },
  {
   "cell_type": "code",
   "execution_count": null,
   "metadata": {},
   "outputs": [],
   "source": []
  },
  {
   "cell_type": "code",
   "execution_count": 627,
   "metadata": {},
   "outputs": [
    {
     "data": {
      "text/plain": [
       "<matplotlib.axes._subplots.AxesSubplot at 0x24fafc88>"
      ]
     },
     "execution_count": 627,
     "metadata": {},
     "output_type": "execute_result"
    },
    {
     "data": {
      "image/png": "[encoded data removed]",
      "text/plain": [
       "<Figure size 1080x720 with 2 Axes>"
      ]
     },
     "metadata": {
      "needs_background": "light"
     },
     "output_type": "display_data"
    }
   ],
   "source": [
    "#посмотрим корреляцию признаков\n",
    "plt.rcParams['figure.figsize'] = (15,10)\n",
    "sns.heatmap(df.corr(),)"
   ]
  },
  {
   "cell_type": "code",
   "execution_count": null,
   "metadata": {},
   "outputs": [],
   "source": [
    "#можно увидеть некоторые интересные закономерности:\n",
    "#количество кухонь в ресторане коррелирует с количеством отзывов\n",
    "#веганские места наиболее популярные\n",
    "#бары часто бывают британскими)))"
   ]
  },
  {
   "cell_type": "code",
   "execution_count": 456,
   "metadata": {},
   "outputs": [
    {
     "data": {
      "text/plain": [
       "<matplotlib.axes._subplots.AxesSubplot at 0x228d4e88>"
      ]
     },
     "execution_count": 456,
     "metadata": {},
     "output_type": "execute_result"
    },
    {
     "data": {
      "image/png": "[encoded data removed]",
      "text/plain": [
       "<Figure size 1080x720 with 2 Axes>"
      ]
     },
     "metadata": {
      "needs_background": "light"
     },
     "output_type": "display_data"
    }
   ],
   "source": [
    "#теперь без косвенных переменных\n",
    "plt.rcParams['figure.figsize'] = (15,10)\n",
    "sns.heatmap(df.drop(['Vegetarian Friendly', 'European', 'Mediterranean', 'Italian',\n",
    "       'Vegan Options', 'Gluten Free Options', 'Bar', 'French', 'Asian',\n",
    "       'Pizza', 'Spanish', 'Pub', 'Cafe', 'Fast Food', 'British',\n",
    "       'International', 'Seafood', 'Japanese', 'Central European', 'American',\n",
    "       'Sushi', 'Chinese', 'Portuguese', 'Indian', 'Middle Eastern'], axis=1).corr(),)"
   ]
  },
  {
   "cell_type": "code",
   "execution_count": 636,
   "metadata": {},
   "outputs": [
    {
     "data": {
      "text/plain": [
       "RandomForestRegressor(bootstrap=True, ccp_alpha=0.0, criterion='mse',\n",
       "                      max_depth=None, max_features='auto', max_leaf_nodes=None,\n",
       "                      max_samples=None, min_impurity_decrease=0.0,\n",
       "                      min_impurity_split=None, min_samples_leaf=1,\n",
       "                      min_samples_split=2, min_weight_fraction_leaf=0.0,\n",
       "                      n_estimators=100, n_jobs=-1, oob_score=False,\n",
       "                      random_state=300, verbose=0, warm_start=False)"
      ]
     },
     "execution_count": 636,
     "metadata": {},
     "output_type": "execute_result"
    }
   ],
   "source": [
    "random_state = 300\n",
    "# Х - данные с информацией о ресторанах, у - целевая переменная (рейтинги ресторанов)\n",
    "X = df.drop(['Restaurant_id', 'Rating'], axis = 1)\n",
    "y = df['Rating']\n",
    "# Наборы данных с меткой \"train\" будут использоваться для обучения модели, \"test\" - для тестирования.\n",
    "# Для тестирования мы будем использовать 25% от исходного датасета.\n",
    "# X_train, X_test, y_train, y_test = train_test_split(X, y, test_size=0.25, random_state=random_state)\n",
    "# Создаём модель\n",
    "regr = RandomForestRegressor(n_estimators=100, random_state=random_state, n_jobs=-1)\n",
    "# Обучаем модель на тестовом наборе данных\n",
    "regr.fit(X, y)\n",
    "# Используем обученную модель для предсказания рейтинга ресторанов в тестовой выборке.\n",
    "# Предсказанные значения записываем в переменную y_pred"
   ]
  },
  {
   "cell_type": "code",
   "execution_count": 644,
   "metadata": {},
   "outputs": [],
   "source": [
    "y_pred = regr.predict(df_kaggle.drop(['Restaurant_id'], axis = 1))\n"
   ]
  },
  {
   "cell_type": "code",
   "execution_count": 647,
   "metadata": {},
   "outputs": [
    {
     "name": "stderr",
     "output_type": "stream",
     "text": [
      "C:\\Users\\user\\anaconda3\\lib\\site-packages\\ipykernel_launcher.py:2: SettingWithCopyWarning: \n",
      "A value is trying to be set on a copy of a slice from a DataFrame.\n",
      "Try using .loc[row_indexer,col_indexer] = value instead\n",
      "\n",
      "See the caveats in the documentation: https://pandas.pydata.org/pandas-docs/stable/user_guide/indexing.html#returning-a-view-versus-a-copy\n",
      "  \n"
     ]
    }
   ],
   "source": [
    "sub_df = df_kaggle[['Restaurant_id']]\n",
    "sub_df['Rating'] = np.round(y_pred * 2) / 2"
   ]
  },
  {
   "cell_type": "code",
   "execution_count": 648,
   "metadata": {},
   "outputs": [],
   "source": [
    "sub_df.to_csv('submit.csv', index=0)"
   ]
  },
  {
   "cell_type": "code",
   "execution_count": null,
   "metadata": {},
   "outputs": [],
   "source": []
  },
  {
   "cell_type": "code",
   "execution_count": null,
   "metadata": {},
   "outputs": [],
   "source": []
  }
 ],
 "metadata": {
  "kernelspec": {
   "display_name": "Python 3",
   "language": "python",
   "name": "python3"
  },
  "language_info": {
   "codemirror_mode": {
    "name": "ipython",
    "version": 3
   },
   "file_extension": ".py",
   "mimetype": "text/x-python",
   "name": "python",
   "nbconvert_exporter": "python",
   "pygments_lexer": "ipython3",
   "version": "3.7.6"
  }
 },
 "nbformat": 4,
 "nbformat_minor": 4
}
